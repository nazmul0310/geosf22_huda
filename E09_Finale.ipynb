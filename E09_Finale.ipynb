{
 "cells": [
  {
   "cell_type": "markdown",
   "id": "76501b35",
   "metadata": {},
   "source": [
    "# Load the modules and continue from 7 steps later"
   ]
  },
  {
   "cell_type": "code",
   "execution_count": 121,
   "id": "c4a10998",
   "metadata": {},
   "outputs": [],
   "source": [
    "from netCDF4 import Dataset\n",
    "import numpy as np\n",
    "import matplotlib.pyplot as plt\n",
    "from pydap.client import open_url       # needed for OPeNDAP access\n",
    "from pydap.cas.urs import setup_session # needed for Earthdata login"
   ]
  },
  {
   "cell_type": "code",
   "execution_count": 107,
   "id": "f621967f",
   "metadata": {},
   "outputs": [],
   "source": [
    "data = Dataset('spei01.nc')\n",
    "\n",
    "#url = 'https://spei.csic.es/spei_database_2_7/nc/spei01.nc'\n",
    "#dataset = open_url(url)"
   ]
  },
  {
   "cell_type": "code",
   "execution_count": 108,
   "id": "dda0044c",
   "metadata": {},
   "outputs": [
    {
     "name": "stdout",
     "output_type": "stream",
     "text": [
      "<class 'netCDF4._netCDF4.Dataset'>\n",
      "root group (NETCDF4 data model, file format HDF5):\n",
      "    Title: Global 1-month SPEI, z-values, 0.5 degree\n",
      "    Version: 2.6\n",
      "    Id: ./outputNcdf/spei01.nc\n",
      "    Summary: Global dataset of the Standardized\n",
      "\t  Precipitation-Evapotranspiration Index (SPEI) at the 1-month time scale. Using CRU TS 4.05 precipitation and potential evapotranspiration data\n",
      "    Keywords: drought, climatology, SPEI, Standardized\n",
      "\t  Precipitation-Evapotranspiration Index\n",
      "    Institution: Consejo Superior de Investigaciones\n",
      "\t          Científicas, CSIC\n",
      "    Url: http://sac.csic.es/spei\n",
      "    Creators: Santiago Beguería <santiago.begueria@csic.es>\n",
      "\t          and Sergio Vicente-Serrano <svicen@ipe.csic.es>\n",
      "    Software: Created in R using the SPEI package\n",
      "\t          (https://cran.r-project.org/web/packages/SPEI/;\n",
      "\t          https://github.com/sbegueria/SPEI)\n",
      "    Call: spei.nc(sca=i, inPre=./inputData/cru_ts4.05.1901.2020.pre.dat.nc, outFile=paste)\n",
      "    Date: Wed Apr 27 13:05:03 2022\n",
      "    Reference: Beguería S., Vicente-Serrano S., Reig F., Latorre B. (2014) Standardized precipitation evapotranspiration index (SPEI) revisited: Parameter fitting, evapotranspiration models, tools, datasets and drought monitoring. International Journal of Climatology 34, 3001-3023.\n",
      "    Reference2: Vicente-Serrano S.M., Beguería S., López-Moreno J.I. (2010) A Multiscalar Drought Index Sensitive to Global Warming: The Standardized Precipitation Evapotranspiration Index. Journal of Climate 23, 1696–1718.\n",
      "    Reference3: Beguería S., Vicente-Serrano S., Angulo-Martínez M. (2010) A multi-scalar global drought data set: the SPEIbase. Bulletin of the American Meteorological Society 91(10), 1351–1356.\n",
      "    dimensions(sizes): lon(720), lat(360), time(1440)\n",
      "    variables(dimensions): float64 lon(lon), float64 lat(lat), float64 time(time), float32 spei(time, lat, lon)\n",
      "    groups: \n"
     ]
    }
   ],
   "source": [
    "print(data)"
   ]
  },
  {
   "cell_type": "code",
   "execution_count": 109,
   "id": "6ad22158",
   "metadata": {},
   "outputs": [
    {
     "data": {
      "text/plain": [
       "{'lon': <class 'netCDF4._netCDF4.Variable'>\n",
       " float64 lon(lon)\n",
       "     units: degrees_east\n",
       "     long_name: longitude\n",
       "     limits: -179.75, 179.75\n",
       "     convention: Coordinates are referred to cell centres\n",
       " unlimited dimensions: \n",
       " current shape = (720,)\n",
       " filling on, default _FillValue of 9.969209968386869e+36 used,\n",
       " 'lat': <class 'netCDF4._netCDF4.Variable'>\n",
       " float64 lat(lat)\n",
       "     units: degrees_north\n",
       "     long_name: latitude\n",
       "     limits: -89.75, 89.75\n",
       "     convention: Coordinates are referred to cell centres\n",
       " unlimited dimensions: \n",
       " current shape = (360,)\n",
       " filling on, default _FillValue of 9.969209968386869e+36 used,\n",
       " 'time': <class 'netCDF4._netCDF4.Variable'>\n",
       " float64 time(time)\n",
       "     units: days since 1900-1-1\n",
       "     long_name: time\n",
       "     limits: 380, 11306\n",
       " unlimited dimensions: \n",
       " current shape = (1440,)\n",
       " filling on, default _FillValue of 9.969209968386869e+36 used,\n",
       " 'spei': <class 'netCDF4._netCDF4.Variable'>\n",
       " float32 spei(time, lat, lon)\n",
       "     units: z-values\n",
       "     _FillValue: 1e+30\n",
       "     long_name: Standardized Precipitation-Evapotranspiration Index\n",
       " unlimited dimensions: \n",
       " current shape = (1440, 360, 720)\n",
       " filling on}"
      ]
     },
     "execution_count": 109,
     "metadata": {},
     "output_type": "execute_result"
    }
   ],
   "source": [
    "data.variables"
   ]
  },
  {
   "cell_type": "code",
   "execution_count": 110,
   "id": "4c9022b1",
   "metadata": {},
   "outputs": [],
   "source": [
    "# lat = data.variables['lat'][:].data\n",
    "# lon = data.variables['lon'][:].data\n",
    "# time = data.variables['time'][:].data\n",
    "# spei = data.variables['spei'][:].data\n",
    "# spei_mask = data.variables['spei'][:].mask\n",
    "\n",
    "lat1 = data.variables['lat'][180:300].data #getting a smaller region\n",
    "lon1 = data.variables['lon'][480:600].data #getting a smaller region\n",
    "time1 = data.variables['time'][1400:].data #filtering data for 2018 to 2020\n",
    "spei1 = data.variables['spei'][1400:,180:300,480:600].data\n",
    "fillvalue1 = data.variables['spei']._FillValue"
   ]
  },
  {
   "cell_type": "code",
   "execution_count": 111,
   "id": "3431bb8b",
   "metadata": {},
   "outputs": [
    {
     "data": {
      "text/plain": [
       "((40, 120, 120), (120,), (120,))"
      ]
     },
     "execution_count": 111,
     "metadata": {},
     "output_type": "execute_result"
    }
   ],
   "source": [
    "spei1.shape, lat1.shape, lon1.shape"
   ]
  },
  {
   "cell_type": "code",
   "execution_count": null,
   "id": "44d8ef61",
   "metadata": {},
   "outputs": [],
   "source": []
  },
  {
   "cell_type": "code",
   "execution_count": 112,
   "id": "24acdacc",
   "metadata": {},
   "outputs": [],
   "source": [
    "#storing the data so it works without spei01.nc file\n",
    "\n",
    "np.savez(\"spei_analysis.npz\", spei1, lat1, lon1, time1, fillvalue1)\n"
   ]
  },
  {
   "cell_type": "markdown",
   "id": "7c85233a",
   "metadata": {},
   "source": [
    "## Start from here, if SPEI file is not in local.\n"
   ]
  },
  {
   "cell_type": "code",
   "execution_count": 120,
   "id": "420badfb",
   "metadata": {},
   "outputs": [],
   "source": [
    "# loading the data from disk\n",
    "\n",
    "data_coo = np.load(\"spei_analysis.npz\") "
   ]
  },
  {
   "cell_type": "code",
   "execution_count": 113,
   "id": "ba060b8d",
   "metadata": {},
   "outputs": [],
   "source": [
    "#reloading the data\n",
    "\n",
    "spei = data_coo['arr_0']\n",
    "lat = data_coo['arr_1']\n",
    "lon = data_coo['arr_2']\n",
    "time = data_coo['arr_3']\n",
    "fillvalue = data_coo['arr_4']"
   ]
  },
  {
   "cell_type": "code",
   "execution_count": 114,
   "id": "c0cbe592",
   "metadata": {},
   "outputs": [],
   "source": [
    "spei[spei==fillvalue] = np.nan   # set missing values or land areas to nan\n",
    "data.close()\n",
    "lenTime = len(spei[:,0,0])\n",
    "lenTime = len(time)\n",
    "lenLat = len(lat)\n",
    "lenLon = len(lon)"
   ]
  },
  {
   "cell_type": "code",
   "execution_count": 115,
   "id": "89c2d259",
   "metadata": {},
   "outputs": [
    {
     "name": "stdout",
     "output_type": "stream",
     "text": [
      "Size of X:  (14400, 40)\n"
     ]
    }
   ],
   "source": [
    "# reshapes 3D data array to 2D big data matrix X:\n",
    "X = spei.reshape((lenTime,lenLon*lenLat))\n",
    "X = np.transpose(X) # transpose so that spatial components on rows and temporal measurement on columns of X\n",
    "print('Size of X: ',X.shape)"
   ]
  },
  {
   "cell_type": "code",
   "execution_count": 116,
   "id": "6767c5a5",
   "metadata": {},
   "outputs": [
    {
     "name": "stdout",
     "output_type": "stream",
     "text": [
      "Number of nan/land values in one column of X:  3899\n",
      "Number of not-nan/ocean values in one column of X:  10501\n",
      "\n",
      "Index location of nan values:\n"
     ]
    },
    {
     "data": {
      "text/plain": [
       "array([   0,    1,    2, ..., 9358, 9359, 9479], dtype=int64)"
      ]
     },
     "execution_count": 116,
     "metadata": {},
     "output_type": "execute_result"
    }
   ],
   "source": [
    "# Find and save index location of nan/notnan values in X (land areas) in a 1D array\n",
    "#    Note: will do this only for the first column/time step, \n",
    "#    because mask is the same for every time step\n",
    "Xnan = np.where(np.isnan(X[:,0]))[0]    # index location of nan values\n",
    "Xnotnan= np.where(~np.isnan(X[:,0]))[0] # index location of non-nan values \n",
    "\n",
    "print('Number of nan/land values in one column of X: ',len(Xnan))\n",
    "print('Number of not-nan/ocean values in one column of X: ',len(Xnotnan))\n",
    "print('\\nIndex location of nan values:')\n",
    "Xnan"
   ]
  },
  {
   "cell_type": "code",
   "execution_count": null,
   "id": "aeaf0c2d",
   "metadata": {},
   "outputs": [],
   "source": []
  },
  {
   "cell_type": "code",
   "execution_count": 117,
   "id": "44bf6190",
   "metadata": {},
   "outputs": [
    {
     "name": "stdout",
     "output_type": "stream",
     "text": [
      "Size of X1:  (10501, 40)\n"
     ]
    }
   ],
   "source": [
    "# Delete nan/land values from X in all columns, store in X1\n",
    "X1 = X[Xnotnan] # filter out land values, via fancy indexing !\n",
    "# note: Xnotnan indicees are broadcasted along time axis\n",
    "print('Size of X1: ', X1.shape) "
   ]
  },
  {
   "cell_type": "code",
   "execution_count": 118,
   "id": "d08b1539",
   "metadata": {},
   "outputs": [
    {
     "ename": "LinAlgError",
     "evalue": "SVD did not converge",
     "output_type": "error",
     "traceback": [
      "\u001b[1;31m---------------------------------------------------------------------------\u001b[0m",
      "\u001b[1;31mLinAlgError\u001b[0m                               Traceback (most recent call last)",
      "Input \u001b[1;32mIn [118]\u001b[0m, in \u001b[0;36m<cell line: 2>\u001b[1;34m()\u001b[0m\n\u001b[0;32m      1\u001b[0m \u001b[38;5;66;03m#Perform SVD with nan-filtered big matrix X1\u001b[39;00m\n\u001b[1;32m----> 2\u001b[0m u1,s,vT \u001b[38;5;241m=\u001b[39m \u001b[43mnp\u001b[49m\u001b[38;5;241;43m.\u001b[39;49m\u001b[43mlinalg\u001b[49m\u001b[38;5;241;43m.\u001b[39;49m\u001b[43msvd\u001b[49m\u001b[43m(\u001b[49m\u001b[43mX1\u001b[49m\u001b[43m,\u001b[49m\u001b[43mfull_matrices\u001b[49m\u001b[38;5;241;43m=\u001b[39;49m\u001b[38;5;241;43m0\u001b[39;49m\u001b[43m)\u001b[49m\n",
      "File \u001b[1;32m<__array_function__ internals>:180\u001b[0m, in \u001b[0;36msvd\u001b[1;34m(*args, **kwargs)\u001b[0m\n",
      "File \u001b[1;32m~\\.conda\\envs\\geosf22\\lib\\site-packages\\numpy\\linalg\\linalg.py:1657\u001b[0m, in \u001b[0;36msvd\u001b[1;34m(a, full_matrices, compute_uv, hermitian)\u001b[0m\n\u001b[0;32m   1654\u001b[0m         gufunc \u001b[38;5;241m=\u001b[39m _umath_linalg\u001b[38;5;241m.\u001b[39msvd_n_s\n\u001b[0;32m   1656\u001b[0m signature \u001b[38;5;241m=\u001b[39m \u001b[38;5;124m'\u001b[39m\u001b[38;5;124mD->DdD\u001b[39m\u001b[38;5;124m'\u001b[39m \u001b[38;5;28;01mif\u001b[39;00m isComplexType(t) \u001b[38;5;28;01melse\u001b[39;00m \u001b[38;5;124m'\u001b[39m\u001b[38;5;124md->ddd\u001b[39m\u001b[38;5;124m'\u001b[39m\n\u001b[1;32m-> 1657\u001b[0m u, s, vh \u001b[38;5;241m=\u001b[39m \u001b[43mgufunc\u001b[49m\u001b[43m(\u001b[49m\u001b[43ma\u001b[49m\u001b[43m,\u001b[49m\u001b[43m \u001b[49m\u001b[43msignature\u001b[49m\u001b[38;5;241;43m=\u001b[39;49m\u001b[43msignature\u001b[49m\u001b[43m,\u001b[49m\u001b[43m \u001b[49m\u001b[43mextobj\u001b[49m\u001b[38;5;241;43m=\u001b[39;49m\u001b[43mextobj\u001b[49m\u001b[43m)\u001b[49m\n\u001b[0;32m   1658\u001b[0m u \u001b[38;5;241m=\u001b[39m u\u001b[38;5;241m.\u001b[39mastype(result_t, copy\u001b[38;5;241m=\u001b[39m\u001b[38;5;28;01mFalse\u001b[39;00m)\n\u001b[0;32m   1659\u001b[0m s \u001b[38;5;241m=\u001b[39m s\u001b[38;5;241m.\u001b[39mastype(_realType(result_t), copy\u001b[38;5;241m=\u001b[39m\u001b[38;5;28;01mFalse\u001b[39;00m)\n",
      "File \u001b[1;32m~\\.conda\\envs\\geosf22\\lib\\site-packages\\numpy\\linalg\\linalg.py:98\u001b[0m, in \u001b[0;36m_raise_linalgerror_svd_nonconvergence\u001b[1;34m(err, flag)\u001b[0m\n\u001b[0;32m     97\u001b[0m \u001b[38;5;28;01mdef\u001b[39;00m \u001b[38;5;21m_raise_linalgerror_svd_nonconvergence\u001b[39m(err, flag):\n\u001b[1;32m---> 98\u001b[0m     \u001b[38;5;28;01mraise\u001b[39;00m LinAlgError(\u001b[38;5;124m\"\u001b[39m\u001b[38;5;124mSVD did not converge\u001b[39m\u001b[38;5;124m\"\u001b[39m)\n",
      "\u001b[1;31mLinAlgError\u001b[0m: SVD did not converge"
     ]
    }
   ],
   "source": [
    "#Perform SVD with nan-filtered big matrix X1\n",
    "u1,s,vT = np.linalg.svd(X1,full_matrices=0) # performs the singular value decomposition"
   ]
  },
  {
   "cell_type": "code",
   "execution_count": 119,
   "id": "792bb771",
   "metadata": {},
   "outputs": [
    {
     "data": {
      "text/plain": [
       "array([[ 1.8981215 ,  0.19408588,  2.0734596 , ..., -0.6463183 ,\n",
       "         0.25951445, -1.2417376 ],\n",
       "       [ 1.8429812 ,  0.24117276,  2.1603158 , ..., -0.5126354 ,\n",
       "         0.53261286, -1.1727356 ],\n",
       "       [ 1.7374835 ,  0.21153432,  2.2121103 , ..., -0.46326703,\n",
       "         0.79625475, -1.1162246 ],\n",
       "       ...,\n",
       "       [ 1.3805453 , -0.22022094,  2.1484227 , ..., -0.14402246,\n",
       "         0.7718914 ,  0.8545277 ],\n",
       "       [ 1.406701  ,  0.12592734,  2.23665   , ..., -0.25083083,\n",
       "         0.8775608 ,  0.88728213],\n",
       "       [ 1.4412843 , -0.18764895,  2.3420951 , ..., -0.12677708,\n",
       "         0.99900806,  0.9777134 ]], dtype=float32)"
      ]
     },
     "execution_count": 119,
     "metadata": {},
     "output_type": "execute_result"
    }
   ],
   "source": [
    "X1"
   ]
  },
  {
   "cell_type": "code",
   "execution_count": null,
   "id": "0ff999a4",
   "metadata": {},
   "outputs": [],
   "source": []
  }
 ],
 "metadata": {
  "kernelspec": {
   "display_name": "Python [conda env:.conda-geosf22] *",
   "language": "python",
   "name": "conda-env-.conda-geosf22-py"
  },
  "language_info": {
   "codemirror_mode": {
    "name": "ipython",
    "version": 3
   },
   "file_extension": ".py",
   "mimetype": "text/x-python",
   "name": "python",
   "nbconvert_exporter": "python",
   "pygments_lexer": "ipython3",
   "version": "3.9.13"
  }
 },
 "nbformat": 4,
 "nbformat_minor": 5
}
