{
 "cells": [
  {
   "cell_type": "markdown",
   "metadata": {
    "colab_type": "text",
    "id": "hMdD2uRMnyuP"
   },
   "source": [
    "Geo Data Science with Python,\n",
    "Prof. Susanna Werth, VT Geosciences\n",
    "\n",
    "---\n",
    "### Tutorial - Lecture 3\n",
    "\n",
    "# A taste of Python\n",
    "\n",
    "To practice working with Jupyter Notebook we will jump right into the cold water and try out some Python. We will learn a bit of the basic operations you can perform with Python, using variables, arithmetic and modules. Carefully study the content of this Notebook and use the chance to reflect the material through the interactive examples.\n",
    "\n",
    "### Sources\n",
    "This material was inspired by the Lesson 1 ([\"A taste of Python\"](https://geo-python.github.io/site/2018/notebooks/L1/a-taste-of-python.html))  from the [Geo-Python](https://geo-python.github.io/site/) website, which is licensed under CC (Attribution-ShareAlike 4.0 International).\n",
    "\n",
    "### Getting started & about the interactive content of this document\n",
    "This is a Jupyter Notebook discussing basic concepts of programming in Python. The content of this document is divided into cells, which can contain Markdown-formatted text, Python code, or raw text. If you open this document in a Jupyter Notebook environment, Python coding cells become interactive.\n",
    "\n",
    "In Jupyter Notebook environments, you will be able to execute cells containing Python code by clicking on the play button at the beginning of the cell or by pressing **Shift-Enter**. You can also experiment and alter the code in the cells. Try this out in the examples below. \n",
    "\n",
    "You can also double click on Markdown cells to see their source code and study formating options.\n",
    "\n",
    "**In the menu above you can**:\n",
    "\n",
    "- *Run > All Cells*  This will run all cells in the notebook (until an error occurs).\n",
    "\n",
    "- *Kernel > Restart Kernel...*  This restarts the Python interpreter\n",
    "\n",
    "- *Kernel > Restart Kernel and Clear All Outputs...* This also clears output from all code cells\n",
    "\n",
    "There are more options you can try that might be helpful.\n",
    "\n",
    "---\n"
   ]
  },
  {
   "cell_type": "markdown",
   "metadata": {
    "colab_type": "text",
    "id": "TOD6lVQ7NDMm"
   },
   "source": [
    "# A: Simple Python math\n",
    "\n",
    "Python can be used as a simple calculator. Remember, you can press **Shift-Enter** to execute the code in the cells below. Try it out and see what you get."
   ]
  },
  {
   "cell_type": "code",
   "execution_count": 1,
   "metadata": {
    "colab": {
     "base_uri": "https://localhost:8080/",
     "height": 34
    },
    "colab_type": "code",
    "executionInfo": {
     "elapsed": 333,
     "status": "ok",
     "timestamp": 1557642834368,
     "user": {
      "displayName": "Susanna Werth",
      "photoUrl": "",
      "userId": "12542887486308294362"
     },
     "user_tz": 420
    },
    "id": "6VkjlCdINDMo",
    "outputId": "66e3834d-bee6-403b-dae0-9dcb4fa164e1"
   },
   "outputs": [
    {
     "data": {
      "text/plain": [
       "15"
      ]
     },
     "execution_count": 1,
     "metadata": {},
     "output_type": "execute_result"
    }
   ],
   "source": [
    "5+10"
   ]
  },
  {
   "cell_type": "code",
   "execution_count": 2,
   "metadata": {
    "colab": {
     "base_uri": "https://localhost:8080/",
     "height": 34
    },
    "colab_type": "code",
    "executionInfo": {
     "elapsed": 478,
     "status": "ok",
     "timestamp": 1557516509702,
     "user": {
      "displayName": "",
      "photoUrl": "",
      "userId": ""
     },
     "user_tz": 420
    },
    "id": "MTcloHJ5NDM_",
    "outputId": "2a661b8d-cd8f-4e84-f693-267e2bf86056"
   },
   "outputs": [
    {
     "data": {
      "text/plain": [
       "0.6292134831460674"
      ]
     },
     "execution_count": 2,
     "metadata": {},
     "output_type": "execute_result"
    }
   ],
   "source": [
    "56 / 89"
   ]
  },
  {
   "cell_type": "markdown",
   "metadata": {
    "colab_type": "text",
    "id": "caZn_LxVNDNM"
   },
   "source": [
    "If you want to edit and re-run some code, simply make changes to the cell and press **Shift-Enter** to execute the revised code."
   ]
  },
  {
   "cell_type": "markdown",
   "metadata": {
    "colab_type": "text",
    "id": "LmLjoCcSNDNt"
   },
   "source": [
    "## Math operations\n",
    "\n",
    "The list of basic arithmetic operations that can be done by default in Python is in the table below.\n",
    "\n",
    "| Operation      | Symbol | Example syntax | Returned value |\n",
    "| :- | :-: | :-: | :-: |\n",
    "| Addition       | `+`    | `2 + 2`        | `4`            |\n",
    "| Subtraction    | `-`    | `4 - 2`        | `2`            |\n",
    "| Multiplication | `*`    | `2 * 3`        | `6`            | \n",
    "| Division       | `/`    | `4 / 2`        | `2`            |\n",
    "| Exponentiation | `**`   | `2**3`         | `8`            |\n",
    "\n",
    "A list of basic functions can be found here: https://docs.python.org/3/library/functions.html\n",
    "\n",
    "For anything more advanced, we need to load a *module*."
   ]
  },
  {
   "cell_type": "markdown",
   "metadata": {
    "colab_type": "text",
    "id": "Tl35_klCNDNP"
   },
   "source": [
    "## Functions\n",
    "\n",
    "You can use Python for more advanced math by using functions. Functions are pieces of code that perform a single action such as printing information to the screen (e.g., the print() function). Functions exist for a huge number of operations in Python."
   ]
  },
  {
   "cell_type": "code",
   "execution_count": 3,
   "metadata": {},
   "outputs": [],
   "source": [
    "x = 12 + 56 + 63"
   ]
  },
  {
   "cell_type": "code",
   "execution_count": 4,
   "metadata": {
    "colab": {},
    "colab_type": "code",
    "id": "ZX5_86FGNDNd",
    "outputId": "226fc84f-b28a-4224-cec8-635e4e8ece14"
   },
   "outputs": [
    {
     "name": "stdout",
     "output_type": "stream",
     "text": [
      "131\n"
     ]
    }
   ],
   "source": [
    "print(x)"
   ]
  },
  {
   "cell_type": "markdown",
   "metadata": {},
   "source": [
    "## Modules\n",
    "\n",
    "For anything more advanced, we need to load a *module*."
   ]
  },
  {
   "cell_type": "code",
   "execution_count": 5,
   "metadata": {
    "colab": {},
    "colab_type": "code",
    "id": "GVc8MJMnNDN9",
    "outputId": "0b88dbe0-149f-4f3b-9a8b-4e4c17fc7605"
   },
   "outputs": [
    {
     "data": {
      "text/plain": [
       "24"
      ]
     },
     "execution_count": 5,
     "metadata": {},
     "output_type": "execute_result"
    }
   ],
   "source": [
    "import math\n",
    "math.factorial(4)"
   ]
  },
  {
   "cell_type": "code",
   "execution_count": 9,
   "metadata": {},
   "outputs": [
    {
     "data": {
      "text/plain": [
       "9"
      ]
     },
     "execution_count": 9,
     "metadata": {},
     "output_type": "execute_result"
    }
   ],
   "source": [
    "math.gcd(81, 9, 45)"
   ]
  },
  {
   "cell_type": "markdown",
   "metadata": {
    "colab_type": "text",
    "id": "pdYcRLgJNDOk"
   },
   "source": [
    "We can see a few interesting things above:\n",
    "\n",
    "1. A *module*, also known as a *library*, is a group of code items such as functions that are related to one another.\n",
    "Modules are loaded using ``import``.\n",
    "Functions that are part of the module ``modulename`` could then be used by typing ``modulename.functionname()``.\n",
    "For example, ``sin()`` is a function that is part of the ``math`` module, and used by typing ``math.sin()`` with some number between the parentheses.\n",
    "\n",
    "2. Within a given Jupyter Notebook the variables you define earlier in the notebook will be available for use in the cells that follow as long as you have already executed the cells.\n",
    "\n",
    "3. Modules may also contain constants such as ``math.pi``."
   ]
  },
  {
   "cell_type": "markdown",
   "metadata": {},
   "source": [
    "We will learn more about this later in class."
   ]
  },
  {
   "cell_type": "markdown",
   "metadata": {
    "colab_type": "text",
    "id": "XcUceU6ANDO_"
   },
   "source": [
    "## Combining functions\n",
    "\n",
    "Functions can also be combined"
   ]
  },
  {
   "cell_type": "code",
   "execution_count": 11,
   "metadata": {
    "colab": {},
    "colab_type": "code",
    "id": "DWhqVvxqNDPC",
    "outputId": "8d0727bb-21d6-4f64-d333-94ce6de19ac9"
   },
   "outputs": [
    {
     "data": {
      "text/plain": [
       "3.0"
      ]
     },
     "execution_count": 11,
     "metadata": {},
     "output_type": "execute_result"
    }
   ],
   "source": [
    "math.sqrt(math.gcd(81, 9, 45))"
   ]
  },
  {
   "cell_type": "code",
   "execution_count": 13,
   "metadata": {
    "colab": {},
    "colab_type": "code",
    "id": "5P7zZWpjNDPN",
    "outputId": "e3b878a4-0d0c-43d9-e4d5-c5226149eac3"
   },
   "outputs": [
    {
     "name": "stdout",
     "output_type": "stream",
     "text": [
      "Using two functions together, sqrt of the gcd of 81, 9, 45 is: 3.0\n"
     ]
    }
   ],
   "source": [
    "print(\"Using two functions together, sqrt of the gcd of 81, 9, 45 is:\",math.sqrt(math.gcd(81, 9, 45)))"
   ]
  },
  {
   "cell_type": "markdown",
   "metadata": {
    "colab_type": "text",
    "id": "wnyQiEfqNDPe"
   },
   "source": [
    "---\n",
    "\n",
    "# B Variables\n",
    "\n",
    "*Variables* can be used to store values calculated in expressions and used for other calculations."
   ]
  },
  {
   "cell_type": "markdown",
   "metadata": {},
   "source": [
    "## Python Assignment: Dynamic Typing\n",
    "\n",
    "Python automatically figures out the type of a variable whet you first assign it a value (no need to declare it). Types is associated with object, not with variable name.\n"
   ]
  },
  {
   "cell_type": "code",
   "execution_count": 15,
   "metadata": {},
   "outputs": [
    {
     "data": {
      "text/plain": [
       "int"
      ]
     },
     "execution_count": 15,
     "metadata": {},
     "output_type": "execute_result"
    }
   ],
   "source": [
    "a = 56\n",
    "type(a)"
   ]
  },
  {
   "cell_type": "code",
   "execution_count": 16,
   "metadata": {},
   "outputs": [
    {
     "data": {
      "text/plain": [
       "float"
      ]
     },
     "execution_count": 16,
     "metadata": {},
     "output_type": "execute_result"
    }
   ],
   "source": [
    "b = 3.14159\n",
    "type(b)"
   ]
  },
  {
   "cell_type": "code",
   "execution_count": 17,
   "metadata": {},
   "outputs": [
    {
     "data": {
      "text/plain": [
       "bool"
      ]
     },
     "execution_count": 17,
     "metadata": {},
     "output_type": "execute_result"
    }
   ],
   "source": [
    "c = False\n",
    "type(c)"
   ]
  },
  {
   "cell_type": "markdown",
   "metadata": {
    "colab_type": "text",
    "id": "TacFGUIRNDRg"
   },
   "source": [
    "## Data types\n",
    "\n",
    "There are 4 basic *data types* in Python as shown in the table below.\n",
    "\n",
    "| Data type name | Data type            | Example    |\n",
    "| :-: | :-: | :-: |\n",
    "| `int`          | Whole integer values | `4`        |\n",
    "| `float`        | Decimal values       | `3.1415`   |\n",
    "| `str`          | Character strings    | `'Hot'`    |\n",
    "| `bool`         | True/false values    | `True`     |\n",
    "\n",
    "The data type can be found using the `type()` function.\n",
    "As you will see, the data types are important because some are not compatible with one another.\n",
    "We will learn more data types the next time."
   ]
  },
  {
   "cell_type": "code",
   "execution_count": 19,
   "metadata": {},
   "outputs": [
    {
     "data": {
      "text/plain": [
       "str"
      ]
     },
     "execution_count": 19,
     "metadata": {},
     "output_type": "execute_result"
    }
   ],
   "source": [
    "d = \"True\"\n",
    "type(d)"
   ]
  },
  {
   "cell_type": "markdown",
   "metadata": {},
   "source": [
    "## A more practical example\n",
    "\n",
    "Let's assign some temperature data to a variable"
   ]
  },
  {
   "cell_type": "code",
   "execution_count": 20,
   "metadata": {
    "colab": {
     "base_uri": "https://localhost:8080/",
     "height": 34
    },
    "colab_type": "code",
    "executionInfo": {
     "elapsed": 483,
     "status": "ok",
     "timestamp": 1557516642755,
     "user": {
      "displayName": "",
      "photoUrl": "",
      "userId": ""
     },
     "user_tz": 420
    },
    "id": "WHP4E2HXNDPt",
    "outputId": "6bc226ef-148c-4923-df1d-1870de68fcf7"
   },
   "outputs": [
    {
     "name": "stdout",
     "output_type": "stream",
     "text": [
      "10.0\n"
     ]
    }
   ],
   "source": [
    "temp_celsius = 10.0\n",
    "print(temp_celsius)"
   ]
  },
  {
   "cell_type": "markdown",
   "metadata": {
    "colab_type": "text",
    "id": "Ob3AQDGgNDQS"
   },
   "source": [
    "Above, we also see one common format for good variable naming, separation of words by underscores `_` (e.g., `temp_celsius`). This is called *pothole_case_naming*. We’ll see another below."
   ]
  },
  {
   "cell_type": "code",
   "execution_count": 21,
   "metadata": {
    "colab": {},
    "colab_type": "code",
    "id": "gFVhjJIjNDP_",
    "outputId": "80137660-71b6-40f6-e74c-dd5af3e91bbd"
   },
   "outputs": [
    {
     "name": "stdout",
     "output_type": "stream",
     "text": [
      "Temperature in Fahrenheit: 50.0\n"
     ]
    }
   ],
   "source": [
    "print('Temperature in Fahrenheit:', 9/5 * temp_celsius + 32)"
   ]
  },
  {
   "cell_type": "markdown",
   "metadata": {
    "colab_type": "text",
    "id": "YeNY9-GYNDQi"
   },
   "source": [
    "## Updating variables\n",
    "\n",
    "Values stored in variables can also be updated."
   ]
  },
  {
   "cell_type": "code",
   "execution_count": 22,
   "metadata": {
    "colab": {},
    "colab_type": "code",
    "id": "2co5QJyZNDQj"
   },
   "outputs": [],
   "source": [
    "temp_celsius = 15.0"
   ]
  },
  {
   "cell_type": "code",
   "execution_count": 23,
   "metadata": {
    "colab": {
     "base_uri": "https://localhost:8080/",
     "height": 34
    },
    "colab_type": "code",
    "executionInfo": {
     "elapsed": 476,
     "status": "ok",
     "timestamp": 1557516650255,
     "user": {
      "displayName": "",
      "photoUrl": "",
      "userId": ""
     },
     "user_tz": 420
    },
    "id": "owudHkwVNDQy",
    "outputId": "65d678db-f4d3-49da-9e96-54c5173ff090"
   },
   "outputs": [
    {
     "name": "stdout",
     "output_type": "stream",
     "text": [
      "temperature in Celsius is now: 15.0\n"
     ]
    }
   ],
   "source": [
    "print('temperature in Celsius is now:', temp_celsius)"
   ]
  },
  {
   "cell_type": "markdown",
   "metadata": {},
   "source": [
    "## Unknown variables"
   ]
  },
  {
   "cell_type": "markdown",
   "metadata": {
    "colab_type": "text",
    "id": "0ljNUGAqNDQ3"
   },
   "source": [
    "<div class=\"alert alert-warning\">\n",
    "\n",
    "**Warning**\n",
    "\n",
    "If you try to run some code that accesses a variable that has not yet been defined you will get a `NameError` message.\n",
    "\n",
    "</div>"
   ]
  },
  {
   "cell_type": "code",
   "execution_count": 26,
   "metadata": {
    "colab": {},
    "colab_type": "code",
    "id": "_1MuGZDWNDQ6",
    "outputId": "0a71a769-4aff-4e75-a57c-41e3ba187bfc"
   },
   "outputs": [
    {
     "name": "stdout",
     "output_type": "stream",
     "text": [
      "Temperature in Celsius: 15.0\n"
     ]
    }
   ],
   "source": [
    "print('Temperature in Celsius:', 5/9 * (tempFahrenheit - 32))"
   ]
  },
  {
   "cell_type": "markdown",
   "metadata": {
    "colab_type": "text",
    "id": "WqYc9TiTNDRC"
   },
   "source": [
    "<div class=\"alert alert-info\">\n",
    "\n",
    "**Note**\n",
    "\n",
    "One of the cool things here is that if we define the undefined variable in a later cell and execute that cell, we can return to the earlier one and the code should now work. That was a bit of a complicated sentence, so let's test this all out. First, execute the Python code in the cell below. Then, return to the cell above this text and run it again. See how the error message has gone away? `tempFahrenheit` has now been defined and thus the cell above no longer generates a `NameError` when the code is executed.\n",
    "\n",
    "Also, the number beside the cell, for example `In [2]`, tells you the order in which the Python cells have been executed. This way you can see a history of the commands you've executed\n",
    "</div>"
   ]
  },
  {
   "cell_type": "code",
   "execution_count": 25,
   "metadata": {
    "colab": {},
    "colab_type": "code",
    "id": "_aLd_ISkNDRD"
   },
   "outputs": [],
   "source": [
    "tempFahrenheit = 9/5 * temp_celsius + 32"
   ]
  },
  {
   "cell_type": "code",
   "execution_count": 27,
   "metadata": {
    "colab": {},
    "colab_type": "code",
    "id": "rGssjoORNDRJ",
    "outputId": "c421eb61-76e8-4718-efa7-ffbedb946374"
   },
   "outputs": [
    {
     "name": "stdout",
     "output_type": "stream",
     "text": [
      "temperature in Celsius: 15.0 and in Fahrenheit: 59.0\n"
     ]
    }
   ],
   "source": [
    "print('temperature in Celsius:', temp_celsius, 'and in Fahrenheit:', tempFahrenheit)"
   ]
  },
  {
   "cell_type": "markdown",
   "metadata": {},
   "source": [
    "## Compatibility of variables"
   ]
  },
  {
   "cell_type": "code",
   "execution_count": 29,
   "metadata": {
    "colab": {},
    "colab_type": "code",
    "id": "HMzIVomJNDRj",
    "outputId": "df802f5d-77b7-4ad1-e787-c3ccd1fbe70d"
   },
   "outputs": [
    {
     "data": {
      "text/plain": [
       "str"
      ]
     },
     "execution_count": 29,
     "metadata": {},
     "output_type": "execute_result"
    }
   ],
   "source": [
    "weatherForecast = 'Hot'\n",
    "type(weatherForecast)"
   ]
  },
  {
   "cell_type": "code",
   "execution_count": 28,
   "metadata": {
    "colab": {},
    "colab_type": "code",
    "id": "eYQk7--sNDRx",
    "outputId": "40910125-c6b9-4c72-b2cb-c7923bdd003c"
   },
   "outputs": [
    {
     "ename": "NameError",
     "evalue": "name 'weatherForecast' is not defined",
     "output_type": "error",
     "traceback": [
      "\u001b[1;31m---------------------------------------------------------------------------\u001b[0m",
      "\u001b[1;31mNameError\u001b[0m                                 Traceback (most recent call last)",
      "\u001b[1;32m~\\AppData\\Local\\Temp/ipykernel_17920/3211439404.py\u001b[0m in \u001b[0;36m<module>\u001b[1;34m\u001b[0m\n\u001b[1;32m----> 1\u001b[1;33m \u001b[0mtempFahrenheit\u001b[0m \u001b[1;33m=\u001b[0m \u001b[0mtempFahrenheit\u001b[0m \u001b[1;33m+\u001b[0m \u001b[1;36m5.0\u001b[0m \u001b[1;33m*\u001b[0m \u001b[0mweatherForecast\u001b[0m\u001b[1;33m\u001b[0m\u001b[1;33m\u001b[0m\u001b[0m\n\u001b[0m",
      "\u001b[1;31mNameError\u001b[0m: name 'weatherForecast' is not defined"
     ]
    }
   ],
   "source": [
    "tempFahrenheit = tempFahrenheit + 5.0 * weatherForecast"
   ]
  },
  {
   "cell_type": "markdown",
   "metadata": {
    "colab_type": "text",
    "id": "3jp_ohXoNDR1"
   },
   "source": [
    "In this case we get at `TypeError` because we are trying to execute a math operation with data types that are not compatible. There is no way in Python to multpily numbers with a character string.\n",
    "\n"
   ]
  },
  {
   "cell_type": "markdown",
   "metadata": {},
   "source": [
    "## Mutability, Strong Typing and Methods\n",
    "\n",
    "Some Python objects can mutate. Mutability describes the possibility of in-place modification of objects by calling functions or methods. These functions typically may not have any output, but change the input object. Numbers, strings, and tuples are immutable. Lists, dictionaries, and sets are mutable. Due to this concept, methods and functions are type-specific."
   ]
  },
  {
   "cell_type": "code",
   "execution_count": 30,
   "metadata": {},
   "outputs": [
    {
     "data": {
      "text/plain": [
       "'hot'"
      ]
     },
     "execution_count": 30,
     "metadata": {},
     "output_type": "execute_result"
    }
   ],
   "source": [
    "weatherForecast.lower()"
   ]
  },
  {
   "cell_type": "code",
   "execution_count": 31,
   "metadata": {},
   "outputs": [
    {
     "name": "stdout",
     "output_type": "stream",
     "text": [
      "Hot\n"
     ]
    }
   ],
   "source": [
    "print(weatherForecast)"
   ]
  },
  {
   "cell_type": "code",
   "execution_count": 32,
   "metadata": {},
   "outputs": [
    {
     "ename": "AttributeError",
     "evalue": "'float' object has no attribute 'upper'",
     "output_type": "error",
     "traceback": [
      "\u001b[1;31m---------------------------------------------------------------------------\u001b[0m",
      "\u001b[1;31mAttributeError\u001b[0m                            Traceback (most recent call last)",
      "\u001b[1;32m~\\AppData\\Local\\Temp/ipykernel_17920/1177307256.py\u001b[0m in \u001b[0;36m<module>\u001b[1;34m\u001b[0m\n\u001b[1;32m----> 1\u001b[1;33m \u001b[0mtempFahrenheit\u001b[0m\u001b[1;33m.\u001b[0m\u001b[0mupper\u001b[0m\u001b[1;33m(\u001b[0m\u001b[1;33m)\u001b[0m \u001b[1;31m# the method upper does not work on numbers, only on strings!\u001b[0m\u001b[1;33m\u001b[0m\u001b[1;33m\u001b[0m\u001b[0m\n\u001b[0m",
      "\u001b[1;31mAttributeError\u001b[0m: 'float' object has no attribute 'upper'"
     ]
    }
   ],
   "source": [
    "tempFahrenheit.upper() # the method upper does not work on numbers, only on strings!"
   ]
  },
  {
   "cell_type": "markdown",
   "metadata": {
    "colab_type": "text",
    "id": "Jpb2cwtKNDQU"
   },
   "source": [
    "---\n",
    "\n",
    "# Check your understanding\n",
    "\n",
    "Use the empty Python cell below to try the following:\n",
    "\n",
    "- Define some variables. The variable value can be anything you like. Consider using pothole_case_naming for your variable name.\n",
    "- Print their values to the screen using the `print()` function. You can even consider defining several variables and printing them out together.\n",
    "- Check the type of your variables. \n",
    "- Apply functions or methods that you have learned."
   ]
  },
  {
   "cell_type": "code",
   "execution_count": 33,
   "metadata": {
    "colab": {
     "base_uri": "https://localhost:8080/",
     "height": 34
    },
    "colab_type": "code",
    "executionInfo": {
     "elapsed": 476,
     "status": "ok",
     "timestamp": 1557516600685,
     "user": {
      "displayName": "",
      "photoUrl": "",
      "userId": ""
     },
     "user_tz": 420
    },
    "id": "pivvw06NNDQY",
    "outputId": "c325990c-3692-4e01-974f-5c2870e615a1"
   },
   "outputs": [],
   "source": [
    "# Place your code on the line(s) below. Note that lines starting with \"#\" are ignored in Python.\n",
    "\n",
    "#TOA Spectral Radiance = (RADIANCE_MULT_BAND_x) * (Bx) + (RADIANCE_ADD_BAND_x)\n",
    "\n",
    "radiance_mult_band = 0.0003342\n",
    "\n",
    "band_x_value = 562\n",
    "\n",
    "added_radiance = 0.1 \n"
   ]
  },
  {
   "cell_type": "code",
   "execution_count": 34,
   "metadata": {},
   "outputs": [],
   "source": [
    "tsr = radiance_mult_band*band_x_value + added_radiance"
   ]
  },
  {
   "cell_type": "code",
   "execution_count": 35,
   "metadata": {},
   "outputs": [
    {
     "name": "stdout",
     "output_type": "stream",
     "text": [
      "Calculated Top of Atmosphere Spectral Radiance from the Landsat 8 Cell is: 0.2878204\n"
     ]
    }
   ],
   "source": [
    "print(\"Calculated Top of Atmosphere Spectral Radiance from the Landsat 8 Cell is:\", tsr, \"\")"
   ]
  }
 ],
 "metadata": {
  "kernelspec": {
   "display_name": "Python 3 (ipykernel)",
   "language": "python",
   "name": "python3"
  },
  "language_info": {
   "codemirror_mode": {
    "name": "ipython",
    "version": 3
   },
   "file_extension": ".py",
   "mimetype": "text/x-python",
   "name": "python",
   "nbconvert_exporter": "python",
   "pygments_lexer": "ipython3",
   "version": "3.9.7"
  }
 },
 "nbformat": 4,
 "nbformat_minor": 4
}
