{
 "cells": [
  {
   "cell_type": "markdown",
   "id": "4c06d3dc",
   "metadata": {},
   "source": [
    "Geo Data Science with Python,\n",
    "Prof. Susanna Werth, VT Geosciences\n",
    "\n",
    "---\n",
    "### Exercise 3\n",
    "\n",
    "# Basic Object Types, Lists and Dictionaries\n",
    "\n",
    "### Content & Grading\n",
    "\n",
    "You will receive the following points for this exercise:\n",
    "\n",
    "- A. <a href='#basic'> Basic Object Types </a> - 20 Points\n",
    "- B. <a href='#list'> Lists </a> - 30 Points\n",
    "- C. <a href='#dict'> Dictionaries </a> - 30 Points\n",
    "- D. <a href='#opt'> Optional Studies </a> - 20 Extra Credit Points \n",
    "\n",
    "Total: 80 + 20\n",
    "\n",
    "---"
   ]
  },
  {
   "cell_type": "markdown",
   "id": "6222ba6c",
   "metadata": {},
   "source": [
    "### Name and Collaborator\n",
    "Add your name and the name of any collaborator in the code cell below."
   ]
  },
  {
   "cell_type": "code",
   "execution_count": 2,
   "id": "fccb722a",
   "metadata": {},
   "outputs": [],
   "source": [
    "Name = 'Nazmul Huda'\n",
    "Collaborators = ['']"
   ]
  },
  {
   "cell_type": "markdown",
   "id": "c15e09ac",
   "metadata": {},
   "source": [
    "---"
   ]
  },
  {
   "cell_type": "markdown",
   "id": "bbc7eb0a",
   "metadata": {},
   "source": [
    "<a id='basic'></a>\n",
    "# A. Basic Object Types"
   ]
  },
  {
   "cell_type": "markdown",
   "id": "e2edfeb4",
   "metadata": {},
   "source": [
    "--- \n",
    "### Task A.1: Built-in Operations\n",
    "\n",
    "Search the folowing websites listing basic expression operators (https://www.tutorialspoint.com/python/python_basic_operators.htm)\n",
    "and built-in functions in Python (https://docs.python.org/3/library/functions.html)\n",
    "\n",
    "Answer the following questions in the markdown cell below:\n",
    "\n",
    "1. Which single-symbol built-in Python **expression** operator returns the floor value of a division of two numbers? \n",
    "2. Which built-in Python **function** returns `True` if any element of the iterable is true? \n"
   ]
  },
  {
   "cell_type": "markdown",
   "id": "9e6b5f6a",
   "metadata": {},
   "source": [
    "\"ENTER YOUR ANSWER HERE\"\n",
    "\n",
    "1. // will return the floor division value in Python\n",
    "\n",
    "2. any() will return true if any of the iterable is True"
   ]
  },
  {
   "cell_type": "markdown",
   "id": "303e94f1",
   "metadata": {},
   "source": [
    "---\n",
    "### Task A.2: Boolean Tests\n",
    "\n",
    "Assign the variable c, d and e with number or string values, so that all Tests 1-4 in the second next code cell return True."
   ]
  },
  {
   "cell_type": "code",
   "execution_count": 12,
   "id": "04d615dd",
   "metadata": {},
   "outputs": [],
   "source": [
    "### ENTER YOUR CODE HERE\n",
    "\n",
    "c= 1\n",
    "\n",
    "d= \"hi\"\n",
    "\n",
    "e= 0\n",
    "\n"
   ]
  },
  {
   "cell_type": "code",
   "execution_count": 13,
   "id": "37281c6e",
   "metadata": {},
   "outputs": [
    {
     "name": "stdout",
     "output_type": "stream",
     "text": [
      "True True True True\n"
     ]
    }
   ],
   "source": [
    "# TESTS:\n",
    "Test1 = bool(d)\n",
    "Test2 = c > e and (type(e) == int)\n",
    "Test3 = (c or e) == 1\n",
    "Test4 = (not e) and d == 'hi'\n",
    "\n",
    "print(Test1, Test2, Test3, Test4)"
   ]
  },
  {
   "cell_type": "code",
   "execution_count": 14,
   "id": "ff18e230",
   "metadata": {},
   "outputs": [],
   "source": [
    "# ASSERT TESTS: these tests tell you if your  \n",
    "#               results are fulfilling the task.\n",
    "# (assert will return an AssertionError,\n",
    "#  if assert expression response is False, \n",
    "#  otherwise remain silent)\n",
    "assert Test1 == True\n",
    "assert Test2 == True\n",
    "assert Test3 == True\n",
    "assert Test4 == True\n",
    "assert type(c) == int or float or str\n",
    "assert type(d) == int or float or str\n",
    "assert type(e) == int or float or str"
   ]
  },
  {
   "cell_type": "markdown",
   "id": "fa8fc0f5",
   "metadata": {},
   "source": [
    "---\n",
    "### Task A.3 Sequences\n",
    "\n",
    "Assign a sentence to a string variable `strSentence`. Then write code, that changes the string to a list `listSentence`, which contains every word of the sentence, but has added `%` in front and at the end of every single word.\n",
    "\n",
    "**Example:**\n",
    "\n",
    "The string \n",
    "\n",
    "`\"Fall is Awesome in Blacksburg\"` \n",
    "\n",
    "would become a new list:\n",
    "\n",
    "`['%Fall%','%is%', '%awesome%', '%in%', '%Blacksburg%']`\n",
    "\n",
    "Investigate the string method `split()` to find out how this might be useful."
   ]
  },
  {
   "cell_type": "code",
   "execution_count": 21,
   "id": "305a8497",
   "metadata": {},
   "outputs": [
    {
     "name": "stdout",
     "output_type": "stream",
     "text": [
      "['%Love%', '%the%', '%Winter%', '%in%', '%Blacksburg%']\n"
     ]
    }
   ],
   "source": [
    "### ADD YOUR CODE HERE\n",
    "\n",
    "strSentence = \"Love the Winter in Blacksburg\"\n",
    "\n",
    "split_sentence = strSentence.split()\n",
    "\n",
    "perc_words = [\"%\" + word + \"%\" for word in split_sentence]\n",
    "\n",
    "print(perc_words)\n"
   ]
  },
  {
   "cell_type": "markdown",
   "id": "2a717a42",
   "metadata": {},
   "source": [
    "---\n",
    "### Task A.4 Mutability\n",
    "\n",
    "What does it mean if an object is mutable? What about immutable? Name at least two mutable and two immutable objects in Python. "
   ]
  },
  {
   "cell_type": "markdown",
   "id": "34705b22",
   "metadata": {},
   "source": [
    "\"ENTER YOUR ANSWER HERE\"\n",
    "\n",
    "By definition mutable objects are the ones which can change their contents and immutable objects can’t change their content.\n",
    "\n",
    "Two mutable objects: list, and dictionary\n",
    "Two immutable objects: tuple, and range"
   ]
  },
  {
   "cell_type": "markdown",
   "id": "b1bcdf68",
   "metadata": {
    "tags": []
   },
   "source": [
    "---\n",
    "<a id='list'></a>\n",
    "# B. Write your Own List Comprehensions\n",
    "\n",
    "This tasks includes writing several list comprehensions and other operations:\n",
    "\n",
    "1. Write a list comprehension that selects numbers from 1 and 100 that are divisible by 7 and assigns the result to a list `sevenList`. Use the built-in function `range()`. Search the function in the internet, if you do not know how to use it (simply search for *range Python* in the internet).\n",
    "\n",
    "\n",
    "2. Assign a list `lackList = [‘cackle’, ‘mack’, ‘kraggle’]` and write a list comprehension that returns the index of the letter k from the list. Assign the result to a variable `foundK`. Apply the function `find()`.\n",
    "\n",
    "\n",
    "3. Append a fourth string to the list `lackList` using the method `append()`. Then use list comprehensions to return the first letter of each word to a new list `firstLetList`.\n",
    "\n",
    "\n",
    "4. Write a list comprehension, that generates a list of numbers between 1 and 1000 in steps of 100 and then returns the square of each value. (Hint: `range()`).\n",
    "\n",
    "\n",
    "5. Develop code that transfers a list `L` containing integer numbers into a second list L2 containing the only the even numbers from L. (Hint: Modulus Operator)\n",
    "\n",
    "\n",
    "Enter the code for these task items in the five cells below. Use exactly the requested variable names, if you want to test your results with the ASSERT tests below."
   ]
  },
  {
   "cell_type": "code",
   "execution_count": 42,
   "id": "a71cccf3",
   "metadata": {},
   "outputs": [
    {
     "name": "stdout",
     "output_type": "stream",
     "text": [
      "[7, 14, 21, 28, 35, 42, 49, 56, 63, 70, 77, 84, 91, 98]\n"
     ]
    }
   ],
   "source": [
    "\n",
    "### YOUR CODE & COMMENTS HERE - 1.\n",
    " \n",
    "sevenList = [x for x in range(1,100) if x % 7 == 0]\n",
    "\n",
    "print(sevenList)\n",
    "  \n"
   ]
  },
  {
   "cell_type": "code",
   "execution_count": 77,
   "id": "713173b7",
   "metadata": {},
   "outputs": [
    {
     "name": "stdout",
     "output_type": "stream",
     "text": [
      "[3, 3, 0]\n"
     ]
    }
   ],
   "source": [
    "\n",
    "### YOUR CODE & COMMENTS HERE - 2.\n",
    "\n",
    "lackList = ['cackle', 'mack', 'kraggle']\n",
    "\n",
    "foundK = [word.find('k') for word in lackList]\n",
    "\n",
    "print(foundK)\n",
    "\n"
   ]
  },
  {
   "cell_type": "code",
   "execution_count": 78,
   "id": "933ed57f",
   "metadata": {},
   "outputs": [
    {
     "name": "stdout",
     "output_type": "stream",
     "text": [
      "['c', 'm', 'k', 'B']\n"
     ]
    }
   ],
   "source": [
    "\n",
    "### YOUR CODE & COMMENTS HERE - 3.\n",
    "\n",
    "lackList.append(\"Batman\")\n",
    "\n",
    "firstLetList = [word[0] for word in lackList]\n",
    "\n",
    "print(firstLetList)\n"
   ]
  },
  {
   "cell_type": "code",
   "execution_count": 85,
   "id": "02985ce4",
   "metadata": {},
   "outputs": [
    {
     "name": "stdout",
     "output_type": "stream",
     "text": [
      "[1, 10201, 40401, 90601, 160801, 251001, 361201, 491401, 641601, 811801]\n"
     ]
    }
   ],
   "source": [
    "\n",
    "### YOUR CODE & COMMENTS HERE - 4.\n",
    "\n",
    "list = [num**2 for num in range (1,1001,100)]\n",
    "\n",
    "print(list)\n"
   ]
  },
  {
   "cell_type": "code",
   "execution_count": 88,
   "id": "16f8b8a6",
   "metadata": {},
   "outputs": [
    {
     "name": "stdout",
     "output_type": "stream",
     "text": [
      "[2, 4, 6, 8, 10, 12, 14, 16, 18, 20, 22, 24, 26, 28, 30, 32, 34, 36, 38, 40, 42, 44, 46, 48, 50, 52, 54, 56, 58, 60, 62, 64, 66, 68, 70, 72, 74, 76, 78, 80, 82, 84, 86, 88, 90, 92, 94, 96, 98, 100, 102, 104, 106, 108, 110, 112, 114, 116, 118, 120, 122, 124, 126, 128, 130, 132, 134, 136, 138, 140, 142, 144, 146, 148, 150, 152, 154, 156, 158, 160, 162, 164, 166, 168, 170, 172, 174, 176, 178, 180, 182, 184, 186, 188, 190, 192, 194, 196, 198, 200, 202, 204, 206, 208, 210, 212, 214, 216, 218, 220, 222, 224, 226, 228, 230, 232, 234, 236, 238, 240, 242, 244, 246, 248, 250, 252, 254, 256, 258, 260, 262, 264, 266, 268, 270, 272, 274, 276, 278, 280, 282, 284, 286, 288, 290, 292, 294, 296, 298, 300, 302, 304, 306, 308, 310, 312, 314, 316, 318, 320, 322, 324, 326, 328, 330, 332, 334, 336, 338, 340, 342, 344, 346, 348, 350, 352, 354, 356, 358, 360, 362, 364, 366, 368, 370, 372, 374, 376, 378, 380, 382, 384, 386, 388, 390, 392, 394, 396, 398, 400, 402, 404, 406, 408, 410, 412, 414, 416, 418, 420, 422, 424, 426, 428, 430, 432, 434, 436, 438, 440, 442, 444, 446, 448, 450, 452, 454, 456, 458, 460, 462, 464, 466, 468, 470, 472, 474, 476, 478, 480, 482, 484, 486, 488, 490, 492, 494, 496, 498, 500, 502, 504, 506, 508, 510, 512, 514, 516, 518, 520, 522, 524, 526, 528, 530, 532, 534, 536, 538, 540, 542, 544, 546, 548, 550, 552, 554, 556, 558, 560, 562, 564, 566, 568, 570, 572, 574, 576, 578, 580, 582, 584, 586, 588, 590, 592, 594, 596, 598, 600, 602, 604, 606, 608, 610, 612, 614, 616, 618, 620, 622, 624, 626, 628, 630, 632, 634, 636, 638, 640, 642, 644, 646, 648, 650, 652, 654, 656, 658, 660, 662, 664, 666, 668, 670, 672, 674, 676, 678, 680, 682, 684, 686, 688, 690, 692, 694, 696, 698, 700, 702, 704, 706, 708, 710, 712, 714, 716, 718, 720, 722, 724, 726, 728, 730, 732, 734, 736, 738, 740, 742, 744, 746, 748, 750, 752, 754, 756, 758, 760, 762, 764, 766, 768, 770, 772, 774, 776, 778, 780, 782, 784, 786, 788, 790, 792, 794, 796, 798, 800, 802, 804, 806, 808, 810, 812, 814, 816, 818, 820, 822, 824, 826, 828, 830, 832, 834, 836, 838, 840, 842, 844, 846, 848, 850, 852, 854, 856, 858, 860, 862, 864, 866, 868, 870, 872, 874, 876, 878, 880, 882, 884, 886, 888, 890, 892, 894, 896, 898, 900, 902, 904, 906, 908, 910, 912, 914, 916, 918, 920, 922, 924, 926, 928, 930, 932, 934, 936, 938, 940, 942, 944, 946, 948, 950, 952, 954, 956, 958, 960, 962, 964, 966, 968, 970, 972, 974, 976, 978, 980, 982, 984, 986, 988, 990, 992, 994, 996, 998]\n"
     ]
    }
   ],
   "source": [
    "\n",
    "### YOUR CODE & COMMENTS HERE - 5.\n",
    "\n",
    "L = range(1, 1000)\n",
    "\n",
    "L2 = [num for num in L if num%2==0]\n",
    "\n",
    "print(L2)\n"
   ]
  },
  {
   "cell_type": "code",
   "execution_count": 124,
   "id": "1de02c51",
   "metadata": {},
   "outputs": [
    {
     "ename": "AssertionError",
     "evalue": "",
     "output_type": "error",
     "traceback": [
      "\u001b[1;31m---------------------------------------------------------------------------\u001b[0m",
      "\u001b[1;31mAssertionError\u001b[0m                            Traceback (most recent call last)",
      "\u001b[1;32m~\\AppData\\Local\\Temp/ipykernel_10476/3651941205.py\u001b[0m in \u001b[0;36m<module>\u001b[1;34m\u001b[0m\n\u001b[0;32m      1\u001b[0m \u001b[1;31m# ASSERT tests of your results for 1-3\u001b[0m\u001b[1;33m\u001b[0m\u001b[1;33m\u001b[0m\u001b[0m\n\u001b[1;32m----> 2\u001b[1;33m \u001b[1;32massert\u001b[0m \u001b[0mtype\u001b[0m\u001b[1;33m(\u001b[0m\u001b[0msevenList\u001b[0m\u001b[1;33m)\u001b[0m     \u001b[1;33m==\u001b[0m \u001b[0mlist\u001b[0m\u001b[1;33m\u001b[0m\u001b[1;33m\u001b[0m\u001b[0m\n\u001b[0m\u001b[0;32m      3\u001b[0m \u001b[1;32massert\u001b[0m \u001b[0mlen\u001b[0m\u001b[1;33m(\u001b[0m\u001b[0msevenList\u001b[0m\u001b[1;33m)\u001b[0m      \u001b[1;33m==\u001b[0m \u001b[1;36m14\u001b[0m\u001b[1;33m\u001b[0m\u001b[1;33m\u001b[0m\u001b[0m\n\u001b[0;32m      4\u001b[0m \u001b[1;32massert\u001b[0m \u001b[0mtype\u001b[0m\u001b[1;33m(\u001b[0m\u001b[0mlackList\u001b[0m\u001b[1;33m)\u001b[0m      \u001b[1;33m==\u001b[0m \u001b[0mlist\u001b[0m\u001b[1;33m\u001b[0m\u001b[1;33m\u001b[0m\u001b[0m\n\u001b[0;32m      5\u001b[0m \u001b[1;32massert\u001b[0m \u001b[0mlackList\u001b[0m\u001b[1;33m[\u001b[0m\u001b[1;36m0\u001b[0m\u001b[1;33m]\u001b[0m \u001b[1;33m==\u001b[0m \u001b[1;34m'cackle'\u001b[0m\u001b[1;33m\u001b[0m\u001b[1;33m\u001b[0m\u001b[0m\n",
      "\u001b[1;31mAssertionError\u001b[0m: "
     ]
    }
   ],
   "source": [
    "# ASSERT tests of your results for 1-3\n",
    "assert type(sevenList)     == list\n",
    "assert len(sevenList)      == 14\n",
    "assert type(lackList)      == list\n",
    "assert lackList[0] == 'cackle'\n",
    "assert lackList[1] == 'mack'  \n",
    "assert lackList[2] == 'kraggle'\n",
    "assert len(lackList) == 4\n",
    "assert type(lackList[3])  == str\n",
    "assert bool(firstLetList[3]) == True"
   ]
  },
  {
   "cell_type": "markdown",
   "id": "d313cbf1",
   "metadata": {},
   "source": [
    "# ---\n",
    "<a id='dict'></a>\n",
    "# C. Dictionaries\n",
    "\n",
    "### Task C.1: Working with Dictionaries\n",
    "\n",
    "Create a dictionary object, `dict_DaysInMonth`, that maps a month's name (the dictionary key) to the respective number of days in that month (the value) for January, February, ..., December, assuming it’s not a leap-year. "
   ]
  },
  {
   "cell_type": "code",
   "execution_count": 98,
   "id": "f14b084c",
   "metadata": {},
   "outputs": [],
   "source": [
    "\n",
    "# YOUR CODE HERE\n",
    "\n",
    "\n",
    "dict_DaysInMonth = {'January':31, 'February': 28, 'March': 31, 'April': 30, 'May': 31, 'June':30, 'July':31, 'August':31, 'September':30, 'October':31, 'November':30, 'December':31}"
   ]
  },
  {
   "cell_type": "markdown",
   "id": "c68e2c14",
   "metadata": {},
   "source": [
    "How can you list only the values from `dict_DaysInMonth`? Assign the values of the dictionary to a variable `DaysInMonth`."
   ]
  },
  {
   "cell_type": "code",
   "execution_count": 122,
   "id": "c589b420",
   "metadata": {},
   "outputs": [
    {
     "name": "stdout",
     "output_type": "stream",
     "text": [
      "[31, 28, 31, 30, 31, 30, 31, 31, 30, 31, 30, 31]\n"
     ]
    },
    {
     "data": {
      "text/plain": [
       "list"
      ]
     },
     "execution_count": 122,
     "metadata": {},
     "output_type": "execute_result"
    }
   ],
   "source": [
    "\n",
    "# YOUR CODE HERE\n",
    "\n",
    "DaysInMonth = [*dict_DaysInMonth.values()]\n",
    "\n",
    "#DaysInMonth = list(dict_DaysInMonth.values())\n",
    "\n",
    "print(DaysInMonth)\n",
    "\n",
    "type(DaysInMonth)"
   ]
  },
  {
   "cell_type": "code",
   "execution_count": 123,
   "id": "72696395",
   "metadata": {},
   "outputs": [
    {
     "ename": "TypeError",
     "evalue": "'list' object is not callable",
     "output_type": "error",
     "traceback": [
      "\u001b[1;31m---------------------------------------------------------------------------\u001b[0m",
      "\u001b[1;31mTypeError\u001b[0m                                 Traceback (most recent call last)",
      "\u001b[1;32m~\\AppData\\Local\\Temp/ipykernel_10476/722284987.py\u001b[0m in \u001b[0;36m<module>\u001b[1;34m\u001b[0m\n\u001b[0;32m      4\u001b[0m \u001b[1;33m\u001b[0m\u001b[0m\n\u001b[0;32m      5\u001b[0m \u001b[1;31m# note the dictionary comprehensions in the following tests\u001b[0m\u001b[1;33m\u001b[0m\u001b[1;33m\u001b[0m\u001b[0m\n\u001b[1;32m----> 6\u001b[1;33m \u001b[0mlen\u001b[0m\u001b[1;33m(\u001b[0m\u001b[1;33m[\u001b[0m\u001b[0md\u001b[0m \u001b[1;32mfor\u001b[0m \u001b[0md\u001b[0m \u001b[1;32min\u001b[0m \u001b[0mlist\u001b[0m\u001b[1;33m(\u001b[0m\u001b[0mDaysInMonth\u001b[0m\u001b[1;33m)\u001b[0m \u001b[1;32mif\u001b[0m \u001b[0md\u001b[0m \u001b[1;33m==\u001b[0m \u001b[1;36m31\u001b[0m\u001b[1;33m]\u001b[0m\u001b[1;33m)\u001b[0m \u001b[1;33m==\u001b[0m \u001b[1;36m7\u001b[0m\u001b[1;33m\u001b[0m\u001b[1;33m\u001b[0m\u001b[0m\n\u001b[0m\u001b[0;32m      7\u001b[0m \u001b[0mlen\u001b[0m\u001b[1;33m(\u001b[0m\u001b[1;33m[\u001b[0m\u001b[0md\u001b[0m \u001b[1;32mfor\u001b[0m \u001b[0md\u001b[0m \u001b[1;32min\u001b[0m \u001b[0mlist\u001b[0m\u001b[1;33m(\u001b[0m\u001b[0mDaysInMonth\u001b[0m\u001b[1;33m)\u001b[0m \u001b[1;32mif\u001b[0m \u001b[0md\u001b[0m \u001b[1;33m==\u001b[0m \u001b[1;36m30\u001b[0m\u001b[1;33m]\u001b[0m\u001b[1;33m)\u001b[0m \u001b[1;33m==\u001b[0m \u001b[1;36m4\u001b[0m\u001b[1;33m\u001b[0m\u001b[1;33m\u001b[0m\u001b[0m\n\u001b[0;32m      8\u001b[0m \u001b[1;33m\u001b[0m\u001b[0m\n",
      "\u001b[1;31mTypeError\u001b[0m: 'list' object is not callable"
     ]
    }
   ],
   "source": [
    "# ASSERT tests - Check the result of your code\n",
    "\n",
    "len(dict_DaysInMonth) == 12\n",
    "\n",
    "# note the dictionary comprehensions in the following tests\n",
    "len([d for d in list(DaysInMonth) if d == 31]) == 7\n",
    "len([d for d in list(DaysInMonth) if d == 30]) == 4\n",
    "\n",
    "assert type(dict_DaysInMonth) == dict\n",
    "assert type(DaysInMonth)      == type({'z':1}.values())"
   ]
  },
  {
   "cell_type": "markdown",
   "id": "27050900",
   "metadata": {},
   "source": [
    "---\n",
    "### Task C.2: Store Data in Dictionaries \n",
    "\n",
    "\n",
    "For this task, you should write the data base of the Finnland Meteorological Institue into a dictionary, that contains table header and content in one data structure.\n",
    "\n",
    "| StatName | ID | Lat | Long |\n",
    "|:-:|:-:|:-:|:-:|\n",
    "| Helsinki Kaisaniemi     | 100971 | 60.18 | 24.94 |\n",
    "| Helsinki Kaivopuisto    | 132310 | 60.15 | 24.96 |\n",
    "| Helsinki Kumpula        | 101004 | 60.20 | 24.96 |\n",
    "| Helsinki Malmi airfield | 101009 | 60.25 | 25.05 |\n",
    "| Helsinki lighthouse     | 101003 | 59.95 | 24.93 |\n",
    "\n",
    "The dictionary should be named `FIMdata` and it should be **a dictionary of 5 dictionaries**, with each of these 5 dictionaries containing a row of the data table above. Use the station ID's as key of the outer dictionary (instead of the names). Then use the remaining header lines as keys of the inner dictionaries and the remaing columns as values of the inner dictionaries. Make sure to use the same key names as in the table header given above. Use appropriate object types for the content numbers and strings."
   ]
  },
  {
   "cell_type": "code",
   "execution_count": 125,
   "id": "094a0051",
   "metadata": {},
   "outputs": [],
   "source": [
    "\n",
    "### YOUR CODE HERE\n",
    "\n",
    "FIMdata ={100971:{'StatName': 'Helsinki Kaisaniemi', 'Lat': 60.18, 'Long': 24.94},\n",
    "          132310:{'StatName': 'Helsinki Kaivopuisto', 'Lat': 60.15, 'Long': 34.96},\n",
    "          101004:{'StatName': 'Helsinki Kumpula', 'Lat': 60.20, 'Long': 24.96},\n",
    "          101009:{'StatName': 'Helsinki Malmi airfield', 'Lat': 60.25, 'Long': 25.05},\n",
    "          101003:{'StatName': 'Helsinki lighthouse', 'Lat': 59.95, 'Long': 24.93}}\n"
   ]
  },
  {
   "cell_type": "code",
   "execution_count": 127,
   "id": "88e7843e",
   "metadata": {},
   "outputs": [],
   "source": [
    "# Check the content of your dataset.\n",
    "\n",
    "assert type(FIMdata) == dict\n",
    "assert FIMdata[100971]['StatName'] == 'Helsinki Kaisaniemi'\n",
    "assert FIMdata[101009]['Lat'] == 60.25\n",
    "assert [e for e in FIMdata] == [100971, 132310, 101004, 101009, 101003]\n",
    "assert len(FIMdata) == 5\n",
    "assert len(FIMdata[100971]) == 3"
   ]
  },
  {
   "cell_type": "markdown",
   "id": "1aac97c5",
   "metadata": {},
   "source": [
    "--- \n",
    "### Task C.3\n",
    "\n",
    "Now do the following using methods and operators available for dicitonaries\n",
    "\n",
    "1. Delete only the station with the ID `132310` from the dictionary (for the station `'Helsinki Kaivopuisto')`. Study and use the operator `del` (see reading book L05_reading_Dictionaries.ipynb).\n",
    "\n",
    "2. Delete another entry (but not the last one) with the method `.pop()`. Do an internet search to learn the method.\n",
    "\n",
    "3. Update the name of the station `Helsinki lighthouse` to a shorter name: `lighthouse`. Study and use the method `update()` for this task.\n",
    "\n",
    "4. Write a list comprehension that extracts only station ID’s and names from your data set. Store the results in the variables FIMIDs and FIMStatNames.\n",
    "\n",
    "5. Write a list comprehension that extracts all the data for a `lighthouse` station from the dictionary. Store the results in the variable FIMlighthouse.\n"
   ]
  },
  {
   "cell_type": "code",
   "execution_count": 129,
   "id": "3e49384b",
   "metadata": {},
   "outputs": [],
   "source": [
    "\n",
    "### YOUR CODE HERE - 1.\n",
    "\n",
    "del FIMdata[132310]\n"
   ]
  },
  {
   "cell_type": "code",
   "execution_count": 132,
   "id": "bdcc6ff9",
   "metadata": {},
   "outputs": [
    {
     "name": "stdout",
     "output_type": "stream",
     "text": [
      "{100971: {'StatName': 'Helsinki Kaisaniemi', 'Lat': 60.18, 'Long': 24.94}, 101009: {'StatName': 'Helsinki Malmi airfield', 'Lat': 60.25, 'Long': 25.05}, 101003: {'StatName': 'Helsinki lighthouse', 'Lat': 59.95, 'Long': 24.93}}\n"
     ]
    }
   ],
   "source": [
    "\n",
    "### YOUR CODE HERE - 2.\n",
    "\n",
    "\n",
    "FIMdata.pop(101004)"
   ]
  },
  {
   "cell_type": "code",
   "execution_count": 136,
   "id": "3496250c",
   "metadata": {},
   "outputs": [
    {
     "name": "stdout",
     "output_type": "stream",
     "text": [
      "{100971: {'StatName': 'Helsinki Kaisaniemi', 'Lat': 60.18, 'Long': 24.94}, 101009: {'StatName': 'Helsinki Malmi airfield', 'Lat': 60.25, 'Long': 25.05}, 101003: {'StatName': 'lighthouse', 'Lat': 59.95, 'Long': 24.93}}\n"
     ]
    }
   ],
   "source": [
    "\n",
    "### YOUR CODE HERE - 3.\n",
    "\n",
    "FIMdata_update = {101003:{'StatName': 'lighthouse', 'Lat': 59.95, 'Long': 24.93}}\n",
    "\n",
    "# updates the value of key 2\n",
    "FIMdata.update(FIMdata_update)\n",
    "\n",
    "print(FIMdata)"
   ]
  },
  {
   "cell_type": "code",
   "execution_count": 150,
   "id": "84dc6d60",
   "metadata": {},
   "outputs": [
    {
     "name": "stdout",
     "output_type": "stream",
     "text": [
      "[101009, 100971, 101003]\n"
     ]
    },
    {
     "data": {
      "text/plain": [
       "list"
      ]
     },
     "execution_count": 150,
     "metadata": {},
     "output_type": "execute_result"
    }
   ],
   "source": [
    "\n",
    "### YOUR CODE HERE - 4.\n",
    "\n",
    "FIMIDs = [*{k for k in FIMdata.keys()}] # Don't know why list() is not working\n",
    "\n",
    "print(FIMIDs)\n",
    "\n",
    "type(FIMIDs)\n"
   ]
  },
  {
   "cell_type": "code",
   "execution_count": 205,
   "id": "9fab6d46",
   "metadata": {},
   "outputs": [
    {
     "name": "stdout",
     "output_type": "stream",
     "text": [
      "{'StatName': 'lighthouse', 'Lat': 59.95, 'Long': 24.93}\n"
     ]
    }
   ],
   "source": [
    "\n",
    "### YOUR CODE HERE - 5.\n",
    "\n",
    "for k,v in FIMdata.items():\n",
    "    if v['StatName'] == 'lighthouse':\n",
    "        print(v)\n"
   ]
  },
  {
   "cell_type": "markdown",
   "id": "0e958e18",
   "metadata": {},
   "source": [
    "---\n",
    "If you are satisfied with your notebook, save it and push it to your homework repository. Or collect some extra credits beforehand!"
   ]
  },
  {
   "cell_type": "markdown",
   "id": "2be4d8c5",
   "metadata": {},
   "source": [
    "---\n",
    "<a id='opt'></a>\n",
    "# D. Optional: Deepen Understanding of List Comprehensions\n",
    "\n",
    "For this task, you have given a list of people data in the following cell. Execute the data cell. Then study the code in the cell further below. It contains a lot of code examples, how to handle lists. Learn, how to interact with the data structure. Try and experiment with the example code in the empty code cells below.\n",
    "\n",
    "Especially focus on how various list comprehension queries can be merged to retrieve a specific entry, whithout actually looking at the data. For example: What is the name of the oldest person? The code examples provide you a step by step derivation of a comples list comprehension to receive the answer to that."
   ]
  },
  {
   "cell_type": "code",
   "execution_count": 197,
   "id": "e77d4ce4",
   "metadata": {},
   "outputs": [],
   "source": [
    "# Data Set: People\n",
    "\n",
    "# Creating a list that defines a person: Name, age, points\n",
    "person = [\"Tom Howard\", 54, 6.0]\n",
    "\n",
    "# Creating a list of lists to define a team:\n",
    "people = [\n",
    "    [\"Tom Howard\",          54,  6.0],\n",
    "    [\"Jane Grimm\",          19,  5.9],\n",
    "    [\"Sam Brown\",           25,  6.2],\n",
    "    [\"Sarah Joan Spade\",    26, 5.25],\n",
    "    [\"Blaine Jones\",        62,  5.8],\n",
    "    [\"Devin Callahan\",      32, 5.92],\n",
    "]"
   ]
  },
  {
   "cell_type": "code",
   "execution_count": 198,
   "id": "f0a45b5e",
   "metadata": {},
   "outputs": [
    {
     "data": {
      "text/plain": [
       "[54, 19, 25, 26, 62, 32]"
      ]
     },
     "execution_count": 198,
     "metadata": {},
     "output_type": "execute_result"
    }
   ],
   "source": [
    "# Retrieving all people's ages\n",
    "[p[1] for p in people] "
   ]
  },
  {
   "cell_type": "code",
   "execution_count": 206,
   "id": "3373d928",
   "metadata": {},
   "outputs": [
    {
     "name": "stdout",
     "output_type": "stream",
     "text": [
      "['Tom Howard', 54, 6.0]\n",
      "['Jane Grimm', 19, 5.9]\n",
      "['Sam Brown', 25, 6.2]\n",
      "['Sarah Joan Spade', 26, 5.25]\n",
      "['Blaine Jones', 62, 5.8]\n",
      "['Devin Callahan', 32, 5.92]\n"
     ]
    }
   ],
   "source": [
    "\"\"\"Study the following code examples: How to interact with lists.\"\"\"\n",
    "\n",
    "#Indexing: accessing certain list entries\n",
    "people[0]   # first entry\n",
    "people[-2]  # second last entry\n",
    "\n",
    "# Slicing\n",
    "people[0:2]  # first two people\n",
    "\n",
    "# How many people on the team\n",
    "len(people)\n",
    "\n",
    "# print out all list elements\n",
    "for p in people: print(p)\n",
    "    \n",
    "# Access all names\n",
    "[p[0] for p in people]\n",
    "\n",
    "# Gives all last names \n",
    "[p[0].split()[-1] for p in people]\n",
    "# (find help for function split listed under:\n",
    "#  Online help > string (type in search bar) > function split \n",
    "\n",
    "# Gives all ages\n",
    "[p[1] for p in people]\n",
    "\n",
    "# Gives average age\n",
    "sum([p[1] for p in people])/float(len(people))\n",
    "\n",
    "# Gives total height\n",
    "sum(p[2] for p in people)\n",
    "\n",
    "\n",
    "# What is the name of the oldest person?\n",
    "# First, find the max age\n",
    "ages =[p[1] for p in people] \n",
    "max(ages)\n",
    "# Now, which item is max? - 62\n",
    "ages.index(62)\n",
    "# Who is that - person 4\n",
    "people[4][0]\n",
    "# Combine all steps before to find the oldest person\n",
    "people[[p[1] for p in people].index(max([p[1] for p in people]))][0]\n",
    "\n",
    "\n",
    "# delete list elements\n",
    "del people[5]\n",
    "\n",
    "# add list elements\n",
    "people.append([\"Your Name\",      23, 5.92])\n",
    "\n",
    "# Find out what the method pop does!\n",
    "people.pop()\n",
    "people.pop(2)\n",
    "\n",
    "# Find out what methods sort and reverse do exactly\n",
    "# go to 'Online help' > search for list > find methods\n",
    "people.sort()\n",
    "people.reverse()\n"
   ]
  },
  {
   "cell_type": "markdown",
   "id": "1761a871",
   "metadata": {},
   "source": [
    "Try the examples by copying & pasting them into the code cells below. Study their output. You may also add more code cells, if you like. This practise will help with the expertise in the following tasks."
   ]
  },
  {
   "cell_type": "code",
   "execution_count": 207,
   "id": "6952d7f5",
   "metadata": {},
   "outputs": [
    {
     "data": {
      "text/plain": [
       "['Howard', 'Spade', 'Grimm', 'Jones']"
      ]
     },
     "execution_count": 207,
     "metadata": {},
     "output_type": "execute_result"
    }
   ],
   "source": [
    "### Try the examples in this code cell. (This will not be graded.)\n",
    "\n",
    "[p[0].split()[-1] for p in people]"
   ]
  },
  {
   "cell_type": "code",
   "execution_count": null,
   "id": "5b7f9465",
   "metadata": {},
   "outputs": [],
   "source": [
    "### Try the examples in this code cell. (This will not be graded.)\n",
    "\n"
   ]
  },
  {
   "cell_type": "code",
   "execution_count": null,
   "id": "162c76a9",
   "metadata": {},
   "outputs": [],
   "source": [
    "### Try the examples in this code cell. (This will not be graded.)\n",
    "\n"
   ]
  },
  {
   "cell_type": "markdown",
   "id": "63f2fff7",
   "metadata": {},
   "source": [
    "### Task D.1\n",
    "\n",
    "After studying the examples for list comprehensions as well as string methods, answer the following: which of the operations or functions above are mutating the list? Copy & paste all examples you can find into the markdown cell below."
   ]
  },
  {
   "cell_type": "markdown",
   "id": "49a76ac7",
   "metadata": {},
   "source": [
    "ENTER YOUR ANSWER HERE"
   ]
  },
  {
   "cell_type": "markdown",
   "id": "5461f8a2",
   "metadata": {},
   "source": [
    "### Task D.2\n",
    "\n",
    "Write a 1-line long list comprehension that returns the name of the person with the lowest points and assigns it to the variable `NameLowestPoints`. You have to retrieve the result by executing a **code chain of list comprehensions and functions** on the list people, not through simple assignment (similar to the example above for the oldest person). \n",
    "\n",
    "The code should work on any other list with the same data structure. For that a second example is provided below."
   ]
  },
  {
   "cell_type": "code",
   "execution_count": null,
   "id": "9d9e3cf0",
   "metadata": {},
   "outputs": [],
   "source": [
    "# Example 1\n",
    "people = [\n",
    "    [\"Tom Howard\",          54,  6.0],\n",
    "    [\"Jane Grimm\",          19,  5.9],\n",
    "    [\"Sam Brown\",           25,  6.2],\n",
    "    [\"Sarah Joan Spade\",    26, 5.25],\n",
    "    [\"Blaine Jones\",        62,  5.8],\n",
    "    [\"Devin Callahan\",      32, 5.92],\n",
    "]\n",
    "\n",
    "# Example 2\n",
    "famousGeographers = [\n",
    "    [\"Eratosthenes\",            -276,  80],\n",
    "    [\"Al Idrisi\",               1100,  65],\n",
    "    [\"Alexander von Humboldt\",  1769,  68],\n",
    "    [\"Immanuel Kant\",           1724,  80],\n",
    "    [\"Carl Ritter\",             1779,  80],\n",
    "    [\"Arnaldo Faustini\",        1872,  72],\n",
    "]"
   ]
  },
  {
   "cell_type": "code",
   "execution_count": null,
   "id": "f4db6be6",
   "metadata": {},
   "outputs": [],
   "source": []
  }
 ],
 "metadata": {
  "kernelspec": {
   "display_name": "Python 3 (ipykernel)",
   "language": "python",
   "name": "python3"
  },
  "language_info": {
   "codemirror_mode": {
    "name": "ipython",
    "version": 3
   },
   "file_extension": ".py",
   "mimetype": "text/x-python",
   "name": "python",
   "nbconvert_exporter": "python",
   "pygments_lexer": "ipython3",
   "version": "3.9.7"
  }
 },
 "nbformat": 4,
 "nbformat_minor": 5
}
