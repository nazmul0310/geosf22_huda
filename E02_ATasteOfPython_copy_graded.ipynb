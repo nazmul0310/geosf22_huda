{
 "cells": [
  {
   "cell_type": "markdown",
   "id": "857828d3-2ae3-4f16-a477-2781a64f4eb2",
   "metadata": {},
   "source": [
    "This exercise was missing"
   ]
  },
  {
   "cell_type": "markdown",
   "id": "b6d312db-f97e-4c74-bf1c-523f322e6fd8",
   "metadata": {
    "nbgrader": {
     "grade": false,
     "grade_id": "jupyter",
     "locked": true,
     "schema_version": 3,
     "solution": false
    }
   },
   "source": [
    "<div class=\"alert alert-warning\">\n",
    "\n",
    "This is a grading note!\n",
    "    \n",
    "    \n",
    "In future here will be your grading summary:\n",
    "- Task X: x/x points\n",
    "\n",
    "Further notes might be inserted below. They will always be entered in a similarily highlighted box.\n",
    "    \n",
    "</div>"
   ]
  }
 ],
 "metadata": {
  "kernelspec": {
   "display_name": "Python 3",
   "language": "python",
   "name": "python3"
  },
  "language_info": {
   "codemirror_mode": {
    "name": "ipython",
    "version": 3
   },
   "file_extension": ".py",
   "mimetype": "text/x-python",
   "name": "python",
   "nbconvert_exporter": "python",
   "pygments_lexer": "ipython3",
   "version": "3.8.8"
  }
 },
 "nbformat": 4,
 "nbformat_minor": 5
}
