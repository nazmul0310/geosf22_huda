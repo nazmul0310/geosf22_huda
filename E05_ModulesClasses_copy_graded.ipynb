{
 "cells": [
  {
   "cell_type": "markdown",
   "id": "ba686ffb",
   "metadata": {},
   "source": [
    "Geo Data Science with Python,\n",
    "Prof. Susanna Werth, VT Geosciences\n",
    "\n",
    "---\n",
    "### Exercise 5\n",
    "\n",
    "# Modules and Classes\n",
    "\n",
    "### Content & Grading\n",
    "\n",
    "You will receive the following points for this exercise:\n",
    "\n",
    "- A. <a href='#module'>  Modules </a> - 40 Points\n",
    "- B. <a href='#class'>   Classes </a> - 60 Points\n",
    "- C. <a href='#classmod'>   Classes for Modules (optional) </a> - 20 Extra Credit Points\n",
    "\n",
    "Total: 100 points (+ 20 points extra credit)\n",
    "\n",
    "---"
   ]
  },
  {
   "cell_type": "markdown",
   "id": "9d89e40e",
   "metadata": {},
   "source": [
    "### Name and Collaborator\n",
    "Add your name and the name of any collaborator in the code cell below."
   ]
  },
  {
   "cell_type": "code",
   "execution_count": 1,
   "id": "ade92c9d",
   "metadata": {},
   "outputs": [],
   "source": [
    "Name = 'Nazmul Huda'\n",
    "Collaborators = ['Alexandar Miele']"
   ]
  },
  {
   "cell_type": "markdown",
   "id": "9bf8b561-4e57-4c35-8f22-dfa1cb34a38f",
   "metadata": {
    "tags": []
   },
   "source": [
    "<div class=\"alert alert-warning\">\n",
    "\n",
    "**Grades:** \n",
    "\n",
    "Total points: **93.5**/100 (including 0/20 extra credit)\n",
    "    \n",
    "- Part A (40P)\n",
    "    - A1: 17/17\n",
    "    - A2: 5/6\n",
    "    - A3: 16/17\n",
    "- Part B (60P)\n",
    "    - B1: 17.5/20\n",
    "    - B2: 38/40\n",
    "- Part C (20P extra credit)\n",
    "    - C: 0/20\n",
    "\n",
    "\n",
    "Signed: Susanna Werth\n",
    "    \n",
    "    \n",
    "</div>\n"
   ]
  },
  {
   "cell_type": "markdown",
   "id": "f67dca07-0c52-48d8-9465-541bc53165db",
   "metadata": {},
   "source": [
    "<div class=\"alert alert-warning\">\n",
    "\n",
    "**Additional Grading Notes:** \n",
    "\n",
    "Some more comments might be provided below for answers without full points. If there are no comments, your answer is correct.\n",
    "        \n",
    "\n",
    "    \n",
    "\n",
    "\n",
    "    \n",
    "    \n",
    "</div>\n",
    "\n",
    "---"
   ]
  },
  {
   "cell_type": "markdown",
   "id": "920051df-d2d5-43b9-8da4-a5301c25ad4d",
   "metadata": {},
   "source": [
    "---\n",
    "<a id='module'></a>\n",
    "# A. Modules\n",
    "(40 points)\n",
    "\n",
    "## A.1 Working with built-in modules\n",
    "\n",
    "Find the documentation pages of the string and the math modules here:\n",
    "\n",
    "* Math module: https://docs.python.org/3/library/math.html\n",
    "* String module: https://docs.python.org/3/library/string.html#module-string\n",
    "\n",
    "### Overview\n",
    "Perform a list of task given below, use documentation pages of math and string module as help and the data provided below as input for those tasks required.\n",
    "\n",
    "### Data"
   ]
  },
  {
   "cell_type": "code",
   "execution_count": 1,
   "id": "911b9859-31a3-43e9-bac4-019ae8c09aeb",
   "metadata": {},
   "outputs": [],
   "source": [
    "# Data for this task\n",
    "AZ_lake_names = [\n",
    "    'theodore roosevelt lake',\n",
    "    'lake pleasant',\n",
    "    'canyon lake',\n",
    "    'apache lake',\n",
    "    'saguaro lake',\n",
    "    'woods canyon lake',\n",
    "    'bartlett lake',\n",
    "    'tempe town lake' ]\n",
    "\n",
    "AZ_lake_sizes = [ # in acres\n",
    "    21493, \n",
    "    7500,\n",
    "    950,\n",
    "    2568,\n",
    "    1264,\n",
    "    55,\n",
    "    2015,\n",
    "    224  ]"
   ]
  },
  {
   "cell_type": "markdown",
   "id": "01b0895a-5b63-4c59-a711-f22b9e36d26b",
   "metadata": {},
   "source": [
    "### Tasks\n",
    "In this task you should do the following\n",
    "1) Import the string module\n",
    "\n",
    "2) Study documentation page of the string method capwords`capwords()` and then use it to transfer the lakenames in the list `AZ_lake_names`, so that each word in the lake name strings capitalized (use for-iteration or list comprehension to process the entire list). \n",
    "\n",
    "3) Import the math module using the acronym ma\n",
    "\n",
    "4) Import the math module's euler number e with the name euler, and in a way so you do not need the prefix math or ma to use it.\n",
    "\n",
    "5) Convert the lake areas (in unit of acres) to calculate the lake's diameter in unit of miles, using the equation:\n",
    "$d = 2 * \\sqrt{ \\frac{A}{\\pi} }$ \n",
    "\n",
    "Note: make sure you are correctly converting the unit in 5)"
   ]
  },
  {
   "cell_type": "code",
   "execution_count": 2,
   "id": "3df3c076-5393-41a3-b966-d8be00c6ebdb",
   "metadata": {},
   "outputs": [
    {
     "name": "stdout",
     "output_type": "stream",
     "text": [
      "['Theodore Roosevelt Lake', 'Lake Pleasant', 'Canyon Lake', 'Apache Lake', 'Saguaro Lake', 'Woods Canyon Lake', 'Bartlett Lake', 'Tempe Town Lake']\n",
      "[6.539033942290431, 3.862742020231896, 1.374759960580849, 2.260281768552284, 1.585764200898717, 0.3307854642750767, 2.002177596799823, 0.6675581178124546]\n"
     ]
    }
   ],
   "source": [
    "\n",
    "### ADD YOUR CODE HERE - 1)\n",
    "\n",
    "import string \n",
    "\n",
    "### ADD YOUR CODE HERE - 2)\n",
    "\n",
    "Cap_AZ_lake_names = [string.capwords(names, sep = None) for names in AZ_lake_names]\n",
    "\n",
    "print(Cap_AZ_lake_names)\n",
    "\n",
    "### ADD YOUR CODE HERE - 3)\n",
    "\n",
    "import math as ma\n",
    "\n",
    "### ADD YOUR CODE HERE - 4)\n",
    "\n",
    "from math import e as euler\n",
    "\n",
    "### ADD YOUR CODE HERE - 5)\n",
    "\n",
    "AZ_lake_diam_miles = [ma.sqrt(values/640/ma.pi)*2 for values in AZ_lake_sizes]\n",
    "\n",
    "print(AZ_lake_diam_miles)\n"
   ]
  },
  {
   "cell_type": "markdown",
   "id": "3be26dbf-227c-4a09-bd8a-a2d378bfde9d",
   "metadata": {},
   "source": [
    "---\n",
    "## A.2 main()\n",
    "\n",
    "Answer the following questions in the Markdown cell below.\n",
    "\n",
    "1) Name the built-in attribute that indicates whether you are on the main program level or not! (1 point)\n",
    "\n",
    "2) Do you need to enter a main() function into a Python module? \n",
    "\n",
    "3) Explain the purpose of the main() function.\n"
   ]
  },
  {
   "cell_type": "markdown",
   "id": "b84ce029-3f3e-471b-9c47-12a17cf6050a",
   "metadata": {},
   "source": [
    "\n",
    "ADD YOUR ANSWERS HERE\n",
    "\n",
    "1) __name__ == '__main__'\n",
    "\n",
    "If a script is on its own, then the __name__ == '__main__' which helps user to understand that it is now at the top level. But when it is being imported as a module into another script then it is not on the top level anymore and the function then van be tweaked to act differently than when it was at top level of the program. \n",
    "\n",
    "2) Not necessarily because the Python interpreter executes from the top of the file unless a specific function is defined.\n",
    "\n",
    "3) main() defines the first and mandatory command to be executed at the beginning and it is not obligatory to put in python\n",
    "\n"
   ]
  },
  {
   "cell_type": "markdown",
   "id": "dd254f1f-9d0b-4ff1-aa16-1156787c0691",
   "metadata": {},
   "source": [
    "<div class=\"alert alert-warning\">\n",
    "\n",
    "**Additional Grading Notes:** \n",
    "\n",
    "1) fully correct name of the attribute is `__name__` (1/2P)\n",
    "\n",
    "   \n",
    "</div>\n",
    "\n",
    "---"
   ]
  },
  {
   "cell_type": "markdown",
   "id": "da7f47e6-2593-4b10-b981-3c398c5e29c6",
   "metadata": {},
   "source": [
    "---\n",
    "## A.3 Using a Module file as Script\n",
    "\n",
    "The code below defines some functions that write text data to a text file and to read text data from file into a list. Inspect the code to learn how this works. Then package the code in a module file `E05_readFile.py`. At the bottom of the module file, also add:\n",
    "- a main() function which calls first the function writeData(), then the function readData() (or readData2).\n",
    "- a statement that allows to use the python file either as module for import, or as script file to be executed from the main pogram level. In the second case, the main() function should be called.\n",
    "\n",
    "Upload the module file `E05_readFile.py` together with this notebook to your homework repository on GitHub as part of E05.\n",
    "\n",
    "In the code cell below (where it states ### ADD CODE TO IMPORT AND USE MODULE CONTENT HERE) add CODE import the module `E05_readFile.py` into this notebook and execute the writeData() function."
   ]
  },
  {
   "cell_type": "code",
   "execution_count": 6,
   "id": "d8f6b61e-fe45-4d91-b821-e7999114a60e",
   "metadata": {},
   "outputs": [],
   "source": [
    "days = ['Monday','Tuesday','Wednesday',\n",
    "        'Thursday','Friday','Saturday',\n",
    "        'Sunday']\n",
    "title = 'Days of the Week'\n",
    "filename = './days.txt'  # enter your file path\n",
    "\n",
    "def writeData():\n",
    "    days_file = open(filename,'w')\n",
    "    days_file.write(title + '\\n')\n",
    "    for item in days:\n",
    "        days_file.write(item + '\\n')\n",
    "    days_file.close()\n",
    "\n",
    "def readData():\n",
    "    days_file = open(filename,'r')\n",
    "    content = days_file.readlines() # reads all lines into list of strings\n",
    "    days_file.close()\n",
    "    content_edit = [ a.strip('\\n') for a in content ]\n",
    "    return content_edit\n",
    "\n",
    "def readData2():\n",
    "    content = [line for line in open(filename,'r')]\n",
    "    return content"
   ]
  },
  {
   "cell_type": "code",
   "execution_count": 7,
   "id": "e19435d7-7720-4ab0-9c7b-088d4285c906",
   "metadata": {},
   "outputs": [
    {
     "name": "stdout",
     "output_type": "stream",
     "text": [
      "['Days of the Week', 'Monday', 'Tuesday', 'Wednesday', 'Thursday', 'Friday', 'Saturday', 'Sunday']\n",
      "['Days of the Week\\n', 'Monday\\n', 'Tuesday\\n', 'Wednesday\\n', 'Thursday\\n', 'Friday\\n', 'Saturday\\n', 'Sunday\\n']\n"
     ]
    }
   ],
   "source": [
    "\n",
    "### ADD CODE TO IMPORT AND USE MODULE CONTENT HERE\n",
    "\n",
    "%run E05_readfile.py"
   ]
  },
  {
   "cell_type": "code",
   "execution_count": 8,
   "id": "9c195069",
   "metadata": {},
   "outputs": [
    {
     "name": "stdout",
     "output_type": "stream",
     "text": [
      "['Days of the Week', 'Monday', 'Tuesday', 'Wednesday', 'Thursday', 'Friday', 'Saturday', 'Sunday']\n",
      "['Days of the Week\\n', 'Monday\\n', 'Tuesday\\n', 'Wednesday\\n', 'Thursday\\n', 'Friday\\n', 'Saturday\\n', 'Sunday\\n']\n"
     ]
    }
   ],
   "source": [
    "import E05_readfile\n",
    "\n",
    "main()"
   ]
  },
  {
   "cell_type": "markdown",
   "id": "5a0261ed-c02f-4bd7-8aba-9df4720f0946",
   "metadata": {},
   "source": [
    "<div class=\"alert alert-warning\">\n",
    "\n",
    "**Additional Grading Notes:** \n",
    "\n",
    "-1P: you were asked to call the writeData function, instead of the main function. Everything else is great!\n",
    "\n",
    "   \n",
    "</div>\n",
    "\n",
    "---"
   ]
  },
  {
   "cell_type": "markdown",
   "id": "1a67c977-bd23-48bb-826b-ee98654247d9",
   "metadata": {},
   "source": [
    "---\n",
    "<a id='class'></a>\n",
    "# B. Classes\n",
    "(60 points)\n",
    "\n",
    "## B.1 Use defined Classes\n",
    "\n",
    "In this assignment we will be using a `Car` class like this:\n",
    "\n",
    "<img src=\"./L10/Image_ClassCar.png\" width=\"300\" />\n",
    "\n",
    "Figure 1: *A Car Class.*\n",
    "\n",
    "### Overview\n",
    "Below, you can find a definition of the `Car` class, already coded in Python. Your task will be to use the class, create instances and call its methods with correct attributes being passed.\n",
    "\n",
    "Our `Car` class contains a class variable `vehicle_type`, a constructor method with the arguments `make` and `model` as well as three further methods:\n",
    "\n",
    "* `getCharge()`: Checks the battery status.\n",
    "* `recharge()`: Recharges the battery.\n",
    "* `drive()`: Drives the car\n"
   ]
  },
  {
   "cell_type": "code",
   "execution_count": 9,
   "id": "a6f035e1-aca9-48b0-a1a3-fbcb8b94f180",
   "metadata": {},
   "outputs": [],
   "source": [
    "import random  # importing the function random to use for generating the charge status of the car\n",
    "\n",
    "# the complexer Car class\n",
    "class eCar:\n",
    "\n",
    "    # Class variables\n",
    "    vehicle_type = \"electric car\"\n",
    "\n",
    "    # Constructor method\n",
    "    def __init__(self, make, model):\n",
    "        self.model = model\n",
    "        self.make  = make\n",
    "        print(\"You have created an \" + self.vehicle_type + \" of make/model: \" + make + \"/\" + model + \".\")\n",
    "        print(\"Check your charge status, before you take a ride!\")\n",
    "\n",
    "    # Method to get charge status\n",
    "    def getCharge(self):\n",
    "        self.charge  = charge = round(random.random()*100)\n",
    "        if self.charge > 40:\n",
    "            self.drive()\n",
    "            print( \"At \" + str(self.charge) + \" percent, your battery is charged enough, take a ride.\")\n",
    "        else:\n",
    "            print(\"At \" + str(self.charge) + \" percent, the battery is almost empty. Call the recharge function!\")\n",
    "\n",
    "    # Method to recharge\n",
    "    def recharge(self):\n",
    "        print(\"Recharching the car battery to 100 percent.\")\n",
    "        self.charge = 100\n",
    "\n",
    "    # Method to drive the car\n",
    "    def drive(self):\n",
    "        if self.charge > 30:\n",
    "            print(\"The \" + self.make + \" is driving well.\")\n",
    "            self.charge -=10;\n",
    "        else:\n",
    "            print('Your battery is low, recharge your car first!')\n",
    "        "
   ]
  },
  {
   "cell_type": "markdown",
   "id": "3482300b-ac4d-4678-acf5-46dba01dc12f",
   "metadata": {},
   "source": [
    "### Tasks\n",
    "Study the definition of the class in the code cell above. The function `getCharge()` sets the charge status of the car battery in percentage. The charge status is assigned randomly using the module `random`. The function `recharge()` recharges the car battery to 100%. And the last method `drive()` simply drives the car.\n",
    "\n",
    "Perform the following tasks:\n",
    "\n",
    "1) Create an instance of the `eCar` class using the name `myToyota` with the make/model `Toyota`/`Prius`\n",
    "\n",
    "2) Create an instance of the `Car` class using the name `myTesla` with the make/model `Tesla`/`S` \n",
    "\n",
    "3) Print out the vehicle type, make and model of both instances.\n",
    "\n",
    "4) We are not satisfied of the accuracy of the vehicle type. Redefine the class variable `vehicle_type` of the Toyota Prius to `'hybrid car'`. Then add two print statements reporting the vehicle type for both cars. \n",
    "\n",
    "6) Now use the functions for one of the instances: check the charge status of the battery.\n",
    "\n",
    "7) Drive the car until the battery is empty.\n",
    "\n",
    "8) Recharge the battery.\n"
   ]
  },
  {
   "cell_type": "code",
   "execution_count": 10,
   "id": "3d6b4fe9-ed70-4c97-a7fd-bfaf64bd7194",
   "metadata": {},
   "outputs": [
    {
     "name": "stdout",
     "output_type": "stream",
     "text": [
      "You have created an electric car of make/model: Toyota/Prius.\n",
      "Check your charge status, before you take a ride!\n",
      "You have created an electric car of make/model: Tesla/S.\n",
      "Check your charge status, before you take a ride!\n",
      "From the deafult function electric car\n",
      "Toyota Prius is a hybrid car\n",
      "Tesla Model S is a electric car\n",
      "At 16 percent, the battery is almost empty. Call the recharge function!\n",
      "Your battery is low, recharge your car first!\n",
      "Recharching the car battery to 100 percent.\n"
     ]
    }
   ],
   "source": [
    "\n",
    "### ADD YOUR CODE HERE - 1)\n",
    "\n",
    "myToyota = eCar('Toyota', 'Prius')\n",
    "\n",
    "### ADD YOUR CODE HERE - 2)\n",
    "\n",
    "myTesla = eCar('Tesla', 'S')\n",
    "\n",
    "### ADD YOUR CODE HERE - 3)\n",
    "\n",
    "print('From the deafult function ' + myToyota.vehicle_type)\n",
    "\n",
    "### ADD YOUR CODE HERE - 4)\n",
    "\n",
    "myToyota.vehicle_type = 'hybrid car'\n",
    "\n",
    "### ADD YOUR CODE HERE - 5)\n",
    "\n",
    "print(\"Toyota Prius is a \" + myToyota.vehicle_type)\n",
    "print(\"Tesla Model S is a \" + myTesla.vehicle_type)\n",
    "\n",
    "\n",
    "### ADD YOUR CODE HERE - 6)\n",
    "\n",
    "myToyota.getCharge()\n",
    "\n",
    "### ADD YOUR CODE HERE - 7)\n",
    "\n",
    "myToyota.drive()\n",
    "\n",
    "### ADD YOUR CODE HERE - 8)\n",
    "\n",
    "myToyota.recharge()"
   ]
  },
  {
   "cell_type": "markdown",
   "id": "3abbf3b4-9377-4a4c-9b74-0944010ca0c5",
   "metadata": {},
   "source": [
    "<div class=\"alert alert-warning\">\n",
    "\n",
    "**Additional Grading Notes:** \n",
    "\n",
    "Task3: (-2.5P) missing print out of make, model of both car instances and vehicle_type of myTesla\n",
    "\n",
    "Everything else is great.\n",
    "</div>\n",
    "\n",
    "---"
   ]
  },
  {
   "cell_type": "markdown",
   "id": "1d78d768-480b-4e7f-b15d-70304fea4146",
   "metadata": {},
   "source": [
    "---\n",
    "## B.2 Write your own Class\n",
    "\n",
    "Generate a class that can be used to create square (objects) of a certain location, size, and rotation.\n",
    "\n",
    "### Overview\n",
    "\n",
    "A square's four corners are fully determined, if the coordinates of one point, side length and rotation angle are given. For example: \n",
    "\n",
    "- Point 1: x = 4.5 m, y = 6.8 m\n",
    "- Square length: 10 m\n",
    "- Rotation angle versus horizontal: 15°\n",
    "\n",
    "<img src=\"./L10/image_ClassSquare.png\" width=\"400\" />\n",
    "\n",
    "Point 2-3 can be calculated with the help of [trigonometric functions](https://en.wikipedia.org/wiki/Trigonometric_functions). You can apply sine and cosine functions of the math module (make sure to enter angles in units of radian for the sine and cosine functions). \n",
    "\n",
    "### Code Input\n",
    "\n",
    "Points of the square should be defined as instances of a class Point, which is provided in the code cell below.  "
   ]
  },
  {
   "cell_type": "code",
   "execution_count": 11,
   "id": "428e3ace-f1bb-4118-8ecc-f09794aa4b35",
   "metadata": {},
   "outputs": [
    {
     "name": "stdout",
     "output_type": "stream",
     "text": [
      "xCoord =  0.0\n",
      "yCoord =  0.0\n",
      "xCoord =  1.4\n",
      "yCoord =  2.7\n",
      "The distance between the points is: 3.04 km.\n"
     ]
    }
   ],
   "source": [
    "import math\n",
    "\n",
    "# class Point\n",
    "class Point:\n",
    "\n",
    "    def __init__(self, x=0.0, y=0.0): # default values of x and y coordinates are 0 \n",
    "        self.x = x\n",
    "        self.y = y\n",
    "        \n",
    "    def display(self):  # displays the coordinates\n",
    "        print('xCoord = ', self.x)\n",
    "        print('yCoord = ', self.y)\n",
    "        \n",
    "    # method calculates the distance from self.x/y to secondPoint.x/y        \n",
    "    def distance(self, secondPoint): \n",
    "        # Equation for distance btw two points:\n",
    "        dist = math.sqrt( (secondPoint.x-self.x)**2 + (secondPoint.y-self.y)**2 )\n",
    "        return(dist)  # returns the result to the method caller\n",
    "\n",
    "    \n",
    "# Example for creating points as instances of the class Point:\n",
    "P1 = Point()\n",
    "P2 = Point(1.4, 2.7)\n",
    "P1.display()\n",
    "P2.display()\n",
    "d = P1.distance(P2)\n",
    "print(\"The distance between the points is: {:.2f} km.\".format(d))"
   ]
  },
  {
   "cell_type": "markdown",
   "id": "5185108c-5c81-4727-add4-e5007e6b4878",
   "metadata": {},
   "source": [
    "### Tasks\n",
    "\n",
    "Follow the tasks below, to complete this exercise. \n",
    "\n",
    "1) First inspect the class Point and the code creating actual data points (instances of the Point class). The method distance is an example for passing class instances to a method. But it is not further needed for this task.\n",
    "\n",
    "\n",
    "2) Code a new class Square, which receives three arguments to the constructor method:\n",
    "    - a point (= an instance of the Class Point) given in a local coordinate system, which defines the upper left corner of the square,\n",
    "    - the length of a side of the square, and \n",
    "    - a rotation angle (versus horizontal line, hence x axis, see image above) \n",
    "\n",
    "\n",
    "3) Add a method `getCorners()` to the class `Square`. The method should calculate all four corners of the square using trigonometric function. The method should also print out a simple list of the four coordinates.\n",
    "\n",
    "\n",
    "4) Generate an actual square (as instance of the class Square) with the parameter listed below. \n",
    "    - Point 1: x = 4.5 m, y = 6.8 m\n",
    "    - Square length: 10 m\n",
    "    - Rotation angle versus horizontal: 15°\n",
    "\n",
    "\n",
    "5) Calculate the remaining corners of the square and dislay the results for all corner coordinates with the method `getCorners()`."
   ]
  },
  {
   "cell_type": "code",
   "execution_count": 14,
   "id": "f9b7b871-d676-4f90-91f1-98a0ed5fce61",
   "metadata": {},
   "outputs": [
    {
     "name": "stdout",
     "output_type": "stream",
     "text": [
      "Moving clockwise, the other three corners are as following: ([14.159258262890683, 9.388190451025206], [16.74744871391589, 0.27106781186547657], [1.9118095489747926, -2.859258262890683])\n"
     ]
    }
   ],
   "source": [
    "# %load geometry.py\n",
    "import math\n",
    "\n",
    "class Square:\n",
    "\n",
    "    def __init__(self, x=0.0, y=0.0, ): # default values of x and y coordinates are 0 \n",
    "        self.x = x\n",
    "        self.y = y\n",
    "        \n",
    "    def display(self):  # displays the attributes\n",
    "        print('xCoord of the upper left corner of square= ', self.x)\n",
    "        print('yCoord of the upper left corner of square= ', self.y)\n",
    "        print('The length(m) of the arms of the square= ', arm_length)\n",
    "        print('The angle(degree) of the arm of the square with horizontal line= ', rot_angle)\n",
    "        \n",
    "        \n",
    "    # method calculates the distance from self.x/y to secondPoint.x/y        \n",
    "    def getCorners(self, arm_length, rot_angle): \n",
    "        \n",
    "        # Equation for finding upper right:\n",
    "        upper_right_x = (math.cos(math.radians(rot_angle))*arm_length)+self.x\n",
    "        upper_right_y = (math.sin(math.radians(rot_angle))*arm_length)+self.y\n",
    "        lower_right_x = (math.sin(math.radians(rot_angle))*arm_length)+upper_right_x\n",
    "        lower_right_y = (math.cos(math.radians(rot_angle))*arm_length)-upper_right_y\n",
    "        lower_left_x = self.x-(math.sin(math.radians(rot_angle))*arm_length)\n",
    "        lower_left_y = self.y-(math.cos(math.radians(rot_angle))*arm_length)\n",
    "        return([upper_right_x, upper_right_y], [lower_right_x, lower_right_y], [lower_left_x, lower_left_y]) \n",
    "\n",
    "    \n",
    "Corner_1 = Square(4.5, 6.8)\n",
    "Corners = Corner_1.getCorners(10,15)\n",
    "print(\"Moving clockwise, the other three corners are as following: \" + str(Corners))\n"
   ]
  },
  {
   "cell_type": "markdown",
   "id": "9af934cf-e751-45b6-af8c-ab3717576686",
   "metadata": {},
   "source": [
    "<div class=\"alert alert-warning\">\n",
    "\n",
    "**Additional Grading Notes:** \n",
    "\n",
    "B2.Task3: (-1P) Make your points accessible from outside the class as attributes of your Square instance - by creating instance variables for them in the class:\n",
    "```python\n",
    "self.p2 = Point(point2_x,point2_y)\n",
    "```\n",
    "\n",
    "Task3: (-1P) y-coordinate of last point (lower left) is not corect. Double check the  trigonometric function. And/or check by plotting of the coordinates, which would show that this coordinate falls outside of the square form.\n",
    "    \n",
    "    \n",
    "</div>\n",
    "\n",
    "---"
   ]
  },
  {
   "cell_type": "markdown",
   "id": "3f736f47-0569-4166-99de-378d5b8e4f42",
   "metadata": {
    "tags": []
   },
   "source": [
    "---\n",
    "# Part C: Classes and Modules Combined (Optional)\n",
    "(20 extra credit points)\n",
    "\n",
    "Write a class Sphere that can store data related to astronomical objects and helps to work with them. Then use it to work with data for Earth, Moon and Sun. The code should be stored in a file `geosphere.py` to make it available as module.\n",
    "\n",
    "To achieve that, follow these steps:\n",
    "\n",
    "- Write a class Sphere to represent the geometric solid sphere. Your class should implement the following methods:\n",
    "    - __init__(self, name, radius): creates a sphere having a given radius\n",
    "    - getRadius(self): returns the radius of this sphere\n",
    "    - getCircumference(self): returns the maximum spherical circumference: $C=2πR$\n",
    "    - surfaceArea(self): returns the surface area of the sphere: A=πR^2\n",
    "    - volume(self): returns the volume of the sphere: $V=4/3πR^3$\n",
    "    - printResults(self): returns labeled results from all methods above (display results using reasonable labels and an accuracy of one decimal point after the comma for radius and circumference, and additionally the scientific format in exponential notation for surfaceArea and volume).\n",
    "- Embed the class in a module called `geosphere.py`. You may use the module math for receiving the value of π for the formulas, or simply use the value: $π=3.14159$.\n",
    "- Add a `main()` function to your module, that generates instances of the class Sphere for Earth (R = 6371 km), Moon (1737 km) and Sun (695700 km) and runs the correct methods to calculate all coded geometric parameter in the class and prints the results on the screen. \n",
    "- Ensure that your module is not executing the main function, when imported as module. However, it should be possible to run it as main script from the command line.\n",
    "- Comment your code and add a docstring to your module!\n",
    "- In the code cell below:\n",
    "    - Run the script `geophsphere.py` as main script from the code cell.\n",
    "    - Import the module geosphere to the notebook cell below and separately run the main script, to get the same output.\n",
    "\n",
    "Dont' forget to submit your module `geophsphere.py` together with this notebook to your homework repository"
   ]
  },
  {
   "cell_type": "code",
   "execution_count": null,
   "id": "93705a0a-6c00-4171-ade3-38b2ac04da0f",
   "metadata": {},
   "outputs": [],
   "source": [
    "\n",
    "### YOUR CODE HERE\n"
   ]
  }
 ],
 "metadata": {
  "kernelspec": {
   "display_name": "Python 3 (ipykernel)",
   "language": "python",
   "name": "python3"
  },
  "language_info": {
   "codemirror_mode": {
    "name": "ipython",
    "version": 3
   },
   "file_extension": ".py",
   "mimetype": "text/x-python",
   "name": "python",
   "nbconvert_exporter": "python",
   "pygments_lexer": "ipython3",
   "version": "3.9.13"
  }
 },
 "nbformat": 4,
 "nbformat_minor": 5
}
